{
 "metadata": {
  "name": "",
  "signature": "sha256:6eb9dac27342925d10607d130e099a0e37fb899e7b4bef84fbf39795fa82fb9d"
 },
 "nbformat": 3,
 "nbformat_minor": 0,
 "worksheets": [
  {
   "cells": [
    {
     "cell_type": "code",
     "collapsed": false,
     "input": [
      "%pylab inline"
     ],
     "language": "python",
     "metadata": {
      "_ben": {
       "show_hide_input": false
      }
     },
     "outputs": [
      {
       "output_type": "stream",
       "stream": "stdout",
       "text": [
        "Populating the interactive namespace from numpy and matplotlib\n"
       ]
      }
     ],
     "prompt_number": 10
    },
    {
     "cell_type": "code",
     "collapsed": false,
     "input": [
      "from scipy.spatial.distance import pdist, cdist\n",
      "\n",
      "a = [(0,0),(0,1),(0,2)]\n",
      "b = [(1,0),(1,1),(1,2)]\n",
      "print a\n",
      "\n",
      "pdist(a)\n",
      "cdist(a,b)**2"
     ],
     "language": "python",
     "metadata": {},
     "outputs": [
      {
       "output_type": "stream",
       "stream": "stdout",
       "text": [
        "[(0, 0), (0, 1), (0, 2)]\n"
       ]
      },
      {
       "metadata": {},
       "output_type": "pyout",
       "prompt_number": 11,
       "text": [
        "array([[ 1.,  2.,  5.],\n",
        "       [ 2.,  1.,  2.],\n",
        "       [ 5.,  2.,  1.]])"
       ]
      }
     ],
     "prompt_number": 11
    },
    {
     "cell_type": "code",
     "collapsed": true,
     "input": [
      "d = array([1,2,3,4])\n",
      "e = array([1,3,4])\n",
      "f = array([array([1,2,3,4]),array([1,3,4])]).flatten()\n",
      "g = empty(0, dtype=int)\n",
      "d = append(d,e)\n",
      "print g, d\n",
      "print append(g,d)\n",
      "print d"
     ],
     "language": "python",
     "metadata": {
      "_ben": {
       "show_hide_input": true
      }
     },
     "outputs": [
      {
       "output_type": "stream",
       "stream": "stdout",
       "text": [
        "[] [1 2 3 4 1 3 4]\n",
        "[1 2 3 4 1 3 4]\n",
        "[1 2 3 4 1 3 4]\n"
       ]
      }
     ],
     "prompt_number": 12
    },
    {
     "cell_type": "code",
     "collapsed": true,
     "input": [
      "print dt.datetime.now()"
     ],
     "language": "python",
     "metadata": {},
     "outputs": [
      {
       "output_type": "stream",
       "stream": "stdout",
       "text": [
        "2015-02-17 11:04:56.225867\n"
       ]
      }
     ],
     "prompt_number": 13
    },
    {
     "cell_type": "code",
     "collapsed": true,
     "input": [
      "def y(x):\n",
      "    return 2*x + 5"
     ],
     "language": "python",
     "metadata": {},
     "outputs": [],
     "prompt_number": 14
    },
    {
     "cell_type": "code",
     "collapsed": true,
     "input": [
      "xVals = linspace(1,10,100)\n",
      "yVals = y(xVals)\n",
      "print xVals, '\\n', yVals"
     ],
     "language": "python",
     "metadata": {},
     "outputs": [
      {
       "output_type": "stream",
       "stream": "stdout",
       "text": [
        "[  1.           1.09090909   1.18181818   1.27272727   1.36363636\n",
        "   1.45454545   1.54545455   1.63636364   1.72727273   1.81818182\n",
        "   1.90909091   2.           2.09090909   2.18181818   2.27272727\n",
        "   2.36363636   2.45454545   2.54545455   2.63636364   2.72727273\n",
        "   2.81818182   2.90909091   3.           3.09090909   3.18181818\n",
        "   3.27272727   3.36363636   3.45454545   3.54545455   3.63636364\n",
        "   3.72727273   3.81818182   3.90909091   4.           4.09090909\n",
        "   4.18181818   4.27272727   4.36363636   4.45454545   4.54545455\n",
        "   4.63636364   4.72727273   4.81818182   4.90909091   5.           5.09090909\n",
        "   5.18181818   5.27272727   5.36363636   5.45454545   5.54545455\n",
        "   5.63636364   5.72727273   5.81818182   5.90909091   6.           6.09090909\n",
        "   6.18181818   6.27272727   6.36363636   6.45454545   6.54545455\n",
        "   6.63636364   6.72727273   6.81818182   6.90909091   7.           7.09090909\n",
        "   7.18181818   7.27272727   7.36363636   7.45454545   7.54545455\n",
        "   7.63636364   7.72727273   7.81818182   7.90909091   8.           8.09090909\n",
        "   8.18181818   8.27272727   8.36363636   8.45454545   8.54545455\n",
        "   8.63636364   8.72727273   8.81818182   8.90909091   9.           9.09090909\n",
        "   9.18181818   9.27272727   9.36363636   9.45454545   9.54545455\n",
        "   9.63636364   9.72727273   9.81818182   9.90909091  10.        ] \n",
        "[  7.           7.18181818   7.36363636   7.54545455   7.72727273\n",
        "   7.90909091   8.09090909   8.27272727   8.45454545   8.63636364\n",
        "   8.81818182   9.           9.18181818   9.36363636   9.54545455\n",
        "   9.72727273   9.90909091  10.09090909  10.27272727  10.45454545\n",
        "  10.63636364  10.81818182  11.          11.18181818  11.36363636\n",
        "  11.54545455  11.72727273  11.90909091  12.09090909  12.27272727\n",
        "  12.45454545  12.63636364  12.81818182  13.          13.18181818\n",
        "  13.36363636  13.54545455  13.72727273  13.90909091  14.09090909\n",
        "  14.27272727  14.45454545  14.63636364  14.81818182  15.          15.18181818\n",
        "  15.36363636  15.54545455  15.72727273  15.90909091  16.09090909\n",
        "  16.27272727  16.45454545  16.63636364  16.81818182  17.          17.18181818\n",
        "  17.36363636  17.54545455  17.72727273  17.90909091  18.09090909\n",
        "  18.27272727  18.45454545  18.63636364  18.81818182  19.          19.18181818\n",
        "  19.36363636  19.54545455  19.72727273  19.90909091  20.09090909\n",
        "  20.27272727  20.45454545  20.63636364  20.81818182  21.          21.18181818\n",
        "  21.36363636  21.54545455  21.72727273  21.90909091  22.09090909\n",
        "  22.27272727  22.45454545  22.63636364  22.81818182  23.          23.18181818\n",
        "  23.36363636  23.54545455  23.72727273  23.90909091  24.09090909\n",
        "  24.27272727  24.45454545  24.63636364  24.81818182  25.        ]\n"
       ]
      }
     ],
     "prompt_number": 15
    },
    {
     "cell_type": "code",
     "collapsed": false,
     "input": [
      "plot(xVals,yVals,'.-')"
     ],
     "language": "python",
     "metadata": {},
     "outputs": [
      {
       "metadata": {},
       "output_type": "pyout",
       "prompt_number": 16,
       "text": [
        "[<matplotlib.lines.Line2D at 0x7f786db728d0>]"
       ]
      },
      {
       "metadata": {},
       "output_type": "display_data",
       "png": "[encoded data removed]",
       "text": [
        "<matplotlib.figure.Figure at 0x7f78740876d0>"
       ]
      }
     ],
     "prompt_number": 16
    },
    {
     "cell_type": "markdown",
     "metadata": {},
     "source": [
      "Interesting so this how they type just normal text into their notebook."
     ]
    },
    {
     "cell_type": "code",
     "collapsed": true,
     "input": [],
     "language": "python",
     "metadata": {},
     "outputs": []
    }
   ],
   "metadata": {}
  }
 ]
}