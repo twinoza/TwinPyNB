{
 "cells": [
  {
   "cell_type": "markdown",
   "metadata": {},
   "source": [
    "This notebook was created to help me quickly calculate the time savings that I might expect by reducing the decrement ratio used to calculate the geometric decrementing Ic variable during calibration.\n",
    "\n",
    "For instance, if I start with a 99.5 percent decrement percentage, and go from .1 down to .001, it would take 919 measurements.  When I cut this down to a 98 percent decrement percentage, it goes down to 228 measurements, which means I sample much fewer points, and therefore get a 4x time improvement."
   ]
  },
  {
   "cell_type": "code",
   "execution_count": 19,
   "metadata": {
    "collapsed": true
   },
   "outputs": [],
   "source": [
    "def calcGeometricDescent(start, stop, decr_ratio):\n",
    "    returnList = list()\n",
    "    cur = start\n",
    "    while cur > stop:\n",
    "        returnList.append(cur)\n",
    "        cur *= decr_ratio\n",
    "    print len(returnList), returnList[-5:]\n",
    "    return returnList"
   ]
  },
  {
   "cell_type": "code",
   "execution_count": 22,
   "metadata": {
    "collapsed": false
   },
   "outputs": [
    {
     "name": "stdout",
     "output_type": "stream",
     "text": [
      "228 [0.0011051338448341708, 0.0010830311679374874, 0.0010613705445787376, 0.0010401431336871628, 0.0010193402710134195]\n",
      "459 [0.001043225867829409, 0.001032793609151115, 0.0010224656730596037, 0.0010122410163290077, 0.0010021186061657176]\n",
      "919 [0.0010239902030817949, 0.0010188702520663858, 0.0010137759008060538, 0.0010087070213020235, 0.0010036634861955134]\n"
     ]
    }
   ],
   "source": [
    "Ic_start = .1\n",
    "Ic_stop = .001\n",
    "Ic_decr_ratios = [0.98,0.99,0.995]\n",
    "\n",
    "for Ic_decr_ratio in Ic_decr_ratios:\n",
    "    calcGeometricDescent(Ic_start, Ic_stop, Ic_decr_ratio)"
   ]
  },
  {
   "cell_type": "code",
   "execution_count": null,
   "metadata": {
    "collapsed": true
   },
   "outputs": [],
   "source": []
  }
 ],
 "metadata": {
  "kernelspec": {
   "display_name": "Python 2",
   "language": "python",
   "name": "python2"
  },
  "language_info": {
   "codemirror_mode": {
    "name": "ipython",
    "version": 2
   },
   "file_extension": ".py",
   "mimetype": "text/x-python",
   "name": "python",
   "nbconvert_exporter": "python",
   "pygments_lexer": "ipython2",
   "version": "2.7.3"
  }
 },
 "nbformat": 4,
 "nbformat_minor": 0
}
