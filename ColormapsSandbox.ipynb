{
 "cells": [
  {
   "cell_type": "code",
   "execution_count": 7,
   "metadata": {
    "collapsed": false,
    "init_cell": true,
    "run_control": {
     "read_only": false
    }
   },
   "outputs": [
    {
     "name": "stdout",
     "output_type": "stream",
     "text": [
      "Populating the interactive namespace from numpy and matplotlib\n"
     ]
    }
   ],
   "source": [
    "%pylab inline\n",
    "import mpld3\n",
    "mpld3.enable_notebook()"
   ]
  },
  {
   "cell_type": "markdown",
   "metadata": {},
   "source": [
    "# Plotting colormaps\n",
    "This section plots the new colormaps to see how they look"
   ]
  },
  {
   "cell_type": "code",
   "execution_count": 6,
   "metadata": {
    "_ben": {
     "show_hide_input": false
    },
    "collapsed": false,
    "run_control": {
     "read_only": false
    }
   },
   "outputs": [
    {
     "name": "stdout",
     "output_type": "stream",
     "text": [
      "[0 1 2 3 4 5 6 7 8 9]\n",
      "[ 0  1  4  9 16 25 36 49 64 81]\n",
      "[   0.            3.16049383   12.64197531   28.44444444   50.56790123\n",
      "   79.01234568  113.77777778  154.86419753  202.27160494  256.        ]\n"
     ]
    }
   ],
   "source": [
    "x = arange(0,10,1)\n",
    "y = x**2\n",
    "\n",
    "print x\n",
    "print y\n",
    "yprime = 1.* y/max(y) * 256\n",
    "print yprime"
   ]
  },
  {
   "cell_type": "code",
   "execution_count": 3,
   "metadata": {
    "_ben": {
     "show_hide_input": false
    },
    "collapsed": false,
    "run_control": {
     "read_only": false
    }
   },
   "outputs": [
    {
     "data": {
      "text/plain": [
       "<matplotlib.image.AxesImage at 0x7f4638698310>"
      ]
     },
     "execution_count": 3,
     "metadata": {},
     "output_type": "execute_result"
    },
    {
     "data": {
      "image/png": "[encoded data removed]",
      "text/html": [
       "\n",
       "\n",
       "<style>\n",
       "\n",
       "</style>\n",
       "\n",
       "<div id=\"fig_el472381399426818167205022521047\"></div>\n",
       "<script>\n",
       "function mpld3_load_lib(url, callback){\n",
       "  var s = document.createElement('script');\n",
       "  s.src = url;\n",
       "  s.async = true;\n",
       "  s.onreadystatechange = s.onload = callback;\n",
       "  s.onerror = function(){console.warn(\"failed to load library \" + url);};\n",
       "  document.getElementsByTagName(\"head\")[0].appendChild(s);\n",
       "}\n",
       "\n",
       "if(typeof(mpld3) !== \"undefined\" && mpld3._mpld3IsLoaded){\n",
       "   // already loaded: just create the figure\n",
       "   !function(mpld3){\n",
       "       \n",
       "       mpld3.draw_figure(\"fig_el472381399426818167205022521047\", {\"axes\": [{\"xlim\": [-0.5, 9.5], \"yscale\": \"linear\", \"axesbg\": \"#FFFFFF\", \"texts\": [], \"zoomable\": true, \"images\": [{\"coordinates\": \"data\", \"zorder\": 0, \"extent\": [-0.5, 9.5, 0.5, -0.5], \"alpha\": null, \"data\": \"iVBORw0KGgoAAAANSUhEUgAAAKoAAAASCAYAAADL70WaAAAABHNCSVQICAgIfAhkiAAAAPBJREFUaIHtkkFqBDEMBKtl78/yhP3/T3aUg+0Zb9gwkEsQdIGRLDU6lb70TO6IuF4bVR9mRKCtJ9q2Fxn6Y43RCzK2J8H+D5Ezw4//2q8b+62zF9e91f+SH7s886xeQOSWy+3WyBCJBIoklCgSKYlZ9/m5/5BtSpoOehw0zRcH/a1P2tz3OVvZHgedg64XXS8eWv0x/2O+Mtd+ZK49dEEneczaNWaP1c/6tl953RpI3EeM+X8sqimBRTUlsKimBBbVlMCimhJYVFMCi2pKYFFNCSyqKYFFNSWwqKYEFtWUwKKaElhUUwKLakpgUU0JvgEEfmkrMO6KUQAAAABJRU5ErkJggg==\", \"id\": \"el47238139939543590032\"}], \"xdomain\": [-0.5, 9.5], \"ylim\": [0.5, -0.5], \"paths\": [], \"sharey\": [], \"sharex\": [], \"axesbgalpha\": null, \"axes\": [{\"scale\": \"linear\", \"tickformat\": null, \"grid\": {\"gridOn\": false}, \"fontsize\": 10.0, \"position\": \"bottom\", \"nticks\": 7, \"tickvalues\": null}, {\"scale\": \"linear\", \"tickformat\": null, \"grid\": {\"gridOn\": false}, \"fontsize\": 10.0, \"position\": \"left\", \"nticks\": 7, \"tickvalues\": null}], \"lines\": [], \"markers\": [], \"id\": \"el47238139939543591760\", \"ydomain\": [0.5, -0.5], \"collections\": [], \"xscale\": \"linear\", \"bbox\": [0.125, 0.69744318181818188, 0.35227272727272724, 0.052840909090909105]}, {\"xlim\": [-0.5, 9.5], \"yscale\": \"linear\", \"axesbg\": \"#FFFFFF\", \"texts\": [], \"zoomable\": true, \"images\": [{\"coordinates\": \"data\", \"zorder\": 0, \"extent\": [-0.5, 9.5, 0.5, -0.5], \"alpha\": null, \"data\": \"iVBORw0KGgoAAAANSUhEUgAAAKoAAAASCAYAAADL70WaAAAABHNCSVQICAgIfAhkiAAAAPZJREFUaIHtmF0KgzAQhGfWCvZePULvf5O4fYgxmkIbH0pYOh9IZn/s04eF8MGn4yrkpZqlJuvT1GznzQ7bmfF9v+2daoMbAQIwwsv8mMm8Y6iZ553yG26AG/cTBjjPPTdsfX7Yrw/sXPf0YZ7PyWu2nH2qGcdcdibHbCtuljBPCbOlXO+59Nve9s42X7hiYcJiKZ97zv27pWa+NrvrV+Wsz0zxE/h9RWQk6kiu/5f9LRJVhECiihBIVBECiSpCIFFFCCTqSHQ91Y1EHYmup7qRqCPRF7UbiToSfVG7kagiBBJVhECiihBIVBECiSpCIFFHouupbl6w+lcsZGYZ5AAAAABJRU5ErkJggg==\", \"id\": \"el47238139939546597776\"}], \"xdomain\": [-0.5, 9.5], \"ylim\": [0.5, -0.5], \"paths\": [], \"sharey\": [], \"sharex\": [], \"axesbgalpha\": null, \"axes\": [{\"scale\": \"linear\", \"tickformat\": null, \"grid\": {\"gridOn\": false}, \"fontsize\": 10.0, \"position\": \"bottom\", \"nticks\": 7, \"tickvalues\": null}, {\"scale\": \"linear\", \"tickformat\": null, \"grid\": {\"gridOn\": false}, \"fontsize\": 10.0, \"position\": \"left\", \"nticks\": 7, \"tickvalues\": null}], \"lines\": [], \"markers\": [], \"id\": \"el47238139939546597840\", \"ydomain\": [0.5, -0.5], \"collections\": [], \"xscale\": \"linear\", \"bbox\": [0.54772727272727262, 0.69744318181818188, 0.35227272727272729, 0.052840909090909105]}, {\"xlim\": [-0.5, 9.5], \"yscale\": \"linear\", \"axesbg\": \"#FFFFFF\", \"texts\": [], \"zoomable\": true, \"images\": [{\"coordinates\": \"data\", \"zorder\": 0, \"extent\": [-0.5, 9.5, 0.5, -0.5], \"alpha\": null, \"data\": \"iVBORw0KGgoAAAANSUhEUgAAAKoAAAASCAYAAADL70WaAAAABHNCSVQICAgIfAhkiAAAARtJREFUaIHtmOEOgyAMhO9a3v+Rx37AFIlKTMCNeV9CLFdcg7tILAGPaEA4SIcxgDyIcZ43OBwOQ8jRGqdcONFSbAQchJMpJvMAbInreRUDcCLrn2tctHJNqduSjzmOy1jX1Vos7onbvCXN7Gi8dnUvYjhAJ5iv65xgSJtgqXmhBeZ7rBhezWvNgbCX92JdiuNG96bewpor/gpeUG/gW4U71r1rCw8z6v7hcXSkDP8TmmfZ79fd/tS4J/Ywo4pZkVHFFMioYgpkVDEFMuoJ3/rWmZdxT+xhRlV7qnddtaeGcK09NZy/a0+N42FG1Ru1d129UYeghn/vumr4C1Ego4opkFHFFMioYgpk1BPU8L+KGv6dUHuqd927tvAGzCs63gSQK5oAAAAASUVORK5CYII=\", \"id\": \"el47238139939565528016\"}], \"xdomain\": [-0.5, 9.5], \"ylim\": [0.5, -0.5], \"paths\": [], \"sharey\": [], \"sharex\": [], \"axesbgalpha\": null, \"axes\": [{\"scale\": \"linear\", \"tickformat\": null, \"grid\": {\"gridOn\": false}, \"fontsize\": 10.0, \"position\": \"bottom\", \"nticks\": 7, \"tickvalues\": null}, {\"scale\": \"linear\", \"tickformat\": null, \"grid\": {\"gridOn\": false}, \"fontsize\": 10.0, \"position\": \"left\", \"nticks\": 7, \"tickvalues\": null}], \"lines\": [], \"markers\": [], \"id\": \"el47238139939565528080\", \"ydomain\": [0.5, -0.5], \"collections\": [], \"xscale\": \"linear\", \"bbox\": [0.125, 0.27471590909090915, 0.35227272727272724, 0.052840909090909105]}, {\"xlim\": [-0.5, 9.5], \"yscale\": \"linear\", \"axesbg\": \"#FFFFFF\", \"texts\": [], \"zoomable\": true, \"images\": [{\"coordinates\": \"data\", \"zorder\": 0, \"extent\": [-0.5, 9.5, 0.5, -0.5], \"alpha\": null, \"data\": \"iVBORw0KGgoAAAANSUhEUgAAAKoAAAASCAYAAADL70WaAAAABHNCSVQICAgIfAhkiAAAAPBJREFUaIHtmOEKwyAMhO9i3Ps/cd0PXXFtx8gGc4H7IBjPFil8bUECpSEMQ3OCI+tFXvev1wwkQRhIO49vs7JnhjJq7qNFFI4CYVP/yO0433tDIU7lx8zaOZuvtQZn66NtcDa4NRRucOu9j75M624byt43sALmgNWpnD1/ygCrUz7uYSVwq0Ctfbzo2+3F2jx/g8UlFd9zfLHz7verJ5GoS/jgJ/an+/3qSSSqSIFEFSmQqCIFElWkQKKKFEjUJeh4KopEXYKOp6JI1CXoixpFoi5BX9QoElWkQKKKFEhUkQKJKlIgUUUKJOoSdDwV5Q53ViDcWUtSxwAAAABJRU5ErkJggg==\", \"id\": \"el47238139939570877200\"}], \"xdomain\": [-0.5, 9.5], \"ylim\": [0.5, -0.5], \"paths\": [], \"sharey\": [], \"sharex\": [], \"axesbgalpha\": null, \"axes\": [{\"scale\": \"linear\", \"tickformat\": null, \"grid\": {\"gridOn\": false}, \"fontsize\": 10.0, \"position\": \"bottom\", \"nticks\": 7, \"tickvalues\": null}, {\"scale\": \"linear\", \"tickformat\": null, \"grid\": {\"gridOn\": false}, \"fontsize\": 10.0, \"position\": \"left\", \"nticks\": 7, \"tickvalues\": null}], \"lines\": [], \"markers\": [], \"id\": \"el47238139939570877264\", \"ydomain\": [0.5, -0.5], \"collections\": [], \"xscale\": \"linear\", \"bbox\": [0.54772727272727262, 0.27471590909090915, 0.35227272727272729, 0.052840909090909105]}], \"height\": 320.0, \"width\": 480.0, \"plugins\": [{\"type\": \"reset\"}, {\"enabled\": false, \"button\": true, \"type\": \"zoom\"}, {\"enabled\": false, \"button\": true, \"type\": \"boxzoom\"}], \"data\": {}, \"id\": \"el47238139942681816720\"});\n",
       "   }(mpld3);\n",
       "}else if(typeof define === \"function\" && define.amd){\n",
       "   // require.js is available: use it to load d3/mpld3\n",
       "   require.config({paths: {d3: \"https://mpld3.github.io/js/d3.v3.min\"}});\n",
       "   require([\"d3\"], function(d3){\n",
       "      window.d3 = d3;\n",
       "      mpld3_load_lib(\"https://mpld3.github.io/js/mpld3.v0.2.js\", function(){\n",
       "         \n",
       "         mpld3.draw_figure(\"fig_el472381399426818167205022521047\", {\"axes\": [{\"xlim\": [-0.5, 9.5], \"yscale\": \"linear\", \"axesbg\": \"#FFFFFF\", \"texts\": [], \"zoomable\": true, \"images\": [{\"coordinates\": \"data\", \"zorder\": 0, \"extent\": [-0.5, 9.5, 0.5, -0.5], \"alpha\": null, \"data\": \"iVBORw0KGgoAAAANSUhEUgAAAKoAAAASCAYAAADL70WaAAAABHNCSVQICAgIfAhkiAAAAPBJREFUaIHtkkFqBDEMBKtl78/yhP3/T3aUg+0Zb9gwkEsQdIGRLDU6lb70TO6IuF4bVR9mRKCtJ9q2Fxn6Y43RCzK2J8H+D5Ezw4//2q8b+62zF9e91f+SH7s886xeQOSWy+3WyBCJBIoklCgSKYlZ9/m5/5BtSpoOehw0zRcH/a1P2tz3OVvZHgedg64XXS8eWv0x/2O+Mtd+ZK49dEEneczaNWaP1c/6tl953RpI3EeM+X8sqimBRTUlsKimBBbVlMCimhJYVFMCi2pKYFFNCSyqKYFFNSWwqKYEFtWUwKKaElhUUwKLakpgUU0JvgEEfmkrMO6KUQAAAABJRU5ErkJggg==\", \"id\": \"el47238139939543590032\"}], \"xdomain\": [-0.5, 9.5], \"ylim\": [0.5, -0.5], \"paths\": [], \"sharey\": [], \"sharex\": [], \"axesbgalpha\": null, \"axes\": [{\"scale\": \"linear\", \"tickformat\": null, \"grid\": {\"gridOn\": false}, \"fontsize\": 10.0, \"position\": \"bottom\", \"nticks\": 7, \"tickvalues\": null}, {\"scale\": \"linear\", \"tickformat\": null, \"grid\": {\"gridOn\": false}, \"fontsize\": 10.0, \"position\": \"left\", \"nticks\": 7, \"tickvalues\": null}], \"lines\": [], \"markers\": [], \"id\": \"el47238139939543591760\", \"ydomain\": [0.5, -0.5], \"collections\": [], \"xscale\": \"linear\", \"bbox\": [0.125, 0.69744318181818188, 0.35227272727272724, 0.052840909090909105]}, {\"xlim\": [-0.5, 9.5], \"yscale\": \"linear\", \"axesbg\": \"#FFFFFF\", \"texts\": [], \"zoomable\": true, \"images\": [{\"coordinates\": \"data\", \"zorder\": 0, \"extent\": [-0.5, 9.5, 0.5, -0.5], \"alpha\": null, \"data\": \"iVBORw0KGgoAAAANSUhEUgAAAKoAAAASCAYAAADL70WaAAAABHNCSVQICAgIfAhkiAAAAPZJREFUaIHtmF0KgzAQhGfWCvZePULvf5O4fYgxmkIbH0pYOh9IZn/s04eF8MGn4yrkpZqlJuvT1GznzQ7bmfF9v+2daoMbAQIwwsv8mMm8Y6iZ553yG26AG/cTBjjPPTdsfX7Yrw/sXPf0YZ7PyWu2nH2qGcdcdibHbCtuljBPCbOlXO+59Nve9s42X7hiYcJiKZ97zv27pWa+NrvrV+Wsz0zxE/h9RWQk6kiu/5f9LRJVhECiihBIVBECiSpCIFFFCCTqSHQ91Y1EHYmup7qRqCPRF7UbiToSfVG7kagiBBJVhECiihBIVBECiSpCIFFHouupbl6w+lcsZGYZ5AAAAABJRU5ErkJggg==\", \"id\": \"el47238139939546597776\"}], \"xdomain\": [-0.5, 9.5], \"ylim\": [0.5, -0.5], \"paths\": [], \"sharey\": [], \"sharex\": [], \"axesbgalpha\": null, \"axes\": [{\"scale\": \"linear\", \"tickformat\": null, \"grid\": {\"gridOn\": false}, \"fontsize\": 10.0, \"position\": \"bottom\", \"nticks\": 7, \"tickvalues\": null}, {\"scale\": \"linear\", \"tickformat\": null, \"grid\": {\"gridOn\": false}, \"fontsize\": 10.0, \"position\": \"left\", \"nticks\": 7, \"tickvalues\": null}], \"lines\": [], \"markers\": [], \"id\": \"el47238139939546597840\", \"ydomain\": [0.5, -0.5], \"collections\": [], \"xscale\": \"linear\", \"bbox\": [0.54772727272727262, 0.69744318181818188, 0.35227272727272729, 0.052840909090909105]}, {\"xlim\": [-0.5, 9.5], \"yscale\": \"linear\", \"axesbg\": \"#FFFFFF\", \"texts\": [], \"zoomable\": true, \"images\": [{\"coordinates\": \"data\", \"zorder\": 0, \"extent\": [-0.5, 9.5, 0.5, -0.5], \"alpha\": null, \"data\": \"iVBORw0KGgoAAAANSUhEUgAAAKoAAAASCAYAAADL70WaAAAABHNCSVQICAgIfAhkiAAAARtJREFUaIHtmOEOgyAMhO9a3v+Rx37AFIlKTMCNeV9CLFdcg7tILAGPaEA4SIcxgDyIcZ43OBwOQ8jRGqdcONFSbAQchJMpJvMAbInreRUDcCLrn2tctHJNqduSjzmOy1jX1Vos7onbvCXN7Gi8dnUvYjhAJ5iv65xgSJtgqXmhBeZ7rBhezWvNgbCX92JdiuNG96bewpor/gpeUG/gW4U71r1rCw8z6v7hcXSkDP8TmmfZ79fd/tS4J/Ywo4pZkVHFFMioYgpkVDEFMuoJ3/rWmZdxT+xhRlV7qnddtaeGcK09NZy/a0+N42FG1Ru1d129UYeghn/vumr4C1Ego4opkFHFFMioYgpk1BPU8L+KGv6dUHuqd927tvAGzCs63gSQK5oAAAAASUVORK5CYII=\", \"id\": \"el47238139939565528016\"}], \"xdomain\": [-0.5, 9.5], \"ylim\": [0.5, -0.5], \"paths\": [], \"sharey\": [], \"sharex\": [], \"axesbgalpha\": null, \"axes\": [{\"scale\": \"linear\", \"tickformat\": null, \"grid\": {\"gridOn\": false}, \"fontsize\": 10.0, \"position\": \"bottom\", \"nticks\": 7, \"tickvalues\": null}, {\"scale\": \"linear\", \"tickformat\": null, \"grid\": {\"gridOn\": false}, \"fontsize\": 10.0, \"position\": \"left\", \"nticks\": 7, \"tickvalues\": null}], \"lines\": [], \"markers\": [], \"id\": \"el47238139939565528080\", \"ydomain\": [0.5, -0.5], \"collections\": [], \"xscale\": \"linear\", \"bbox\": [0.125, 0.27471590909090915, 0.35227272727272724, 0.052840909090909105]}, {\"xlim\": [-0.5, 9.5], \"yscale\": \"linear\", \"axesbg\": \"#FFFFFF\", \"texts\": [], \"zoomable\": true, \"images\": [{\"coordinates\": \"data\", \"zorder\": 0, \"extent\": [-0.5, 9.5, 0.5, -0.5], \"alpha\": null, \"data\": \"iVBORw0KGgoAAAANSUhEUgAAAKoAAAASCAYAAADL70WaAAAABHNCSVQICAgIfAhkiAAAAPBJREFUaIHtmOEKwyAMhO9i3Ps/cd0PXXFtx8gGc4H7IBjPFil8bUECpSEMQ3OCI+tFXvev1wwkQRhIO49vs7JnhjJq7qNFFI4CYVP/yO0433tDIU7lx8zaOZuvtQZn66NtcDa4NRRucOu9j75M624byt43sALmgNWpnD1/ygCrUz7uYSVwq0Ctfbzo2+3F2jx/g8UlFd9zfLHz7verJ5GoS/jgJ/an+/3qSSSqSIFEFSmQqCIFElWkQKKKFEjUJeh4KopEXYKOp6JI1CXoixpFoi5BX9QoElWkQKKKFEhUkQKJKlIgUUUKJOoSdDwV5Q53ViDcWUtSxwAAAABJRU5ErkJggg==\", \"id\": \"el47238139939570877200\"}], \"xdomain\": [-0.5, 9.5], \"ylim\": [0.5, -0.5], \"paths\": [], \"sharey\": [], \"sharex\": [], \"axesbgalpha\": null, \"axes\": [{\"scale\": \"linear\", \"tickformat\": null, \"grid\": {\"gridOn\": false}, \"fontsize\": 10.0, \"position\": \"bottom\", \"nticks\": 7, \"tickvalues\": null}, {\"scale\": \"linear\", \"tickformat\": null, \"grid\": {\"gridOn\": false}, \"fontsize\": 10.0, \"position\": \"left\", \"nticks\": 7, \"tickvalues\": null}], \"lines\": [], \"markers\": [], \"id\": \"el47238139939570877264\", \"ydomain\": [0.5, -0.5], \"collections\": [], \"xscale\": \"linear\", \"bbox\": [0.54772727272727262, 0.27471590909090915, 0.35227272727272729, 0.052840909090909105]}], \"height\": 320.0, \"width\": 480.0, \"plugins\": [{\"type\": \"reset\"}, {\"enabled\": false, \"button\": true, \"type\": \"zoom\"}, {\"enabled\": false, \"button\": true, \"type\": \"boxzoom\"}], \"data\": {}, \"id\": \"el47238139942681816720\"});\n",
       "      });\n",
       "    });\n",
       "}else{\n",
       "    // require.js not available: dynamically load d3 & mpld3\n",
       "    mpld3_load_lib(\"https://mpld3.github.io/js/d3.v3.min.js\", function(){\n",
       "         mpld3_load_lib(\"https://mpld3.github.io/js/mpld3.v0.2.js\", function(){\n",
       "                 \n",
       "                 mpld3.draw_figure(\"fig_el472381399426818167205022521047\", {\"axes\": [{\"xlim\": [-0.5, 9.5], \"yscale\": \"linear\", \"axesbg\": \"#FFFFFF\", \"texts\": [], \"zoomable\": true, \"images\": [{\"coordinates\": \"data\", \"zorder\": 0, \"extent\": [-0.5, 9.5, 0.5, -0.5], \"alpha\": null, \"data\": \"iVBORw0KGgoAAAANSUhEUgAAAKoAAAASCAYAAADL70WaAAAABHNCSVQICAgIfAhkiAAAAPBJREFUaIHtkkFqBDEMBKtl78/yhP3/T3aUg+0Zb9gwkEsQdIGRLDU6lb70TO6IuF4bVR9mRKCtJ9q2Fxn6Y43RCzK2J8H+D5Ezw4//2q8b+62zF9e91f+SH7s886xeQOSWy+3WyBCJBIoklCgSKYlZ9/m5/5BtSpoOehw0zRcH/a1P2tz3OVvZHgedg64XXS8eWv0x/2O+Mtd+ZK49dEEneczaNWaP1c/6tl953RpI3EeM+X8sqimBRTUlsKimBBbVlMCimhJYVFMCi2pKYFFNCSyqKYFFNSWwqKYEFtWUwKKaElhUUwKLakpgUU0JvgEEfmkrMO6KUQAAAABJRU5ErkJggg==\", \"id\": \"el47238139939543590032\"}], \"xdomain\": [-0.5, 9.5], \"ylim\": [0.5, -0.5], \"paths\": [], \"sharey\": [], \"sharex\": [], \"axesbgalpha\": null, \"axes\": [{\"scale\": \"linear\", \"tickformat\": null, \"grid\": {\"gridOn\": false}, \"fontsize\": 10.0, \"position\": \"bottom\", \"nticks\": 7, \"tickvalues\": null}, {\"scale\": \"linear\", \"tickformat\": null, \"grid\": {\"gridOn\": false}, \"fontsize\": 10.0, \"position\": \"left\", \"nticks\": 7, \"tickvalues\": null}], \"lines\": [], \"markers\": [], \"id\": \"el47238139939543591760\", \"ydomain\": [0.5, -0.5], \"collections\": [], \"xscale\": \"linear\", \"bbox\": [0.125, 0.69744318181818188, 0.35227272727272724, 0.052840909090909105]}, {\"xlim\": [-0.5, 9.5], \"yscale\": \"linear\", \"axesbg\": \"#FFFFFF\", \"texts\": [], \"zoomable\": true, \"images\": [{\"coordinates\": \"data\", \"zorder\": 0, \"extent\": [-0.5, 9.5, 0.5, -0.5], \"alpha\": null, \"data\": \"iVBORw0KGgoAAAANSUhEUgAAAKoAAAASCAYAAADL70WaAAAABHNCSVQICAgIfAhkiAAAAPZJREFUaIHtmF0KgzAQhGfWCvZePULvf5O4fYgxmkIbH0pYOh9IZn/s04eF8MGn4yrkpZqlJuvT1GznzQ7bmfF9v+2daoMbAQIwwsv8mMm8Y6iZ553yG26AG/cTBjjPPTdsfX7Yrw/sXPf0YZ7PyWu2nH2qGcdcdibHbCtuljBPCbOlXO+59Nve9s42X7hiYcJiKZ97zv27pWa+NrvrV+Wsz0zxE/h9RWQk6kiu/5f9LRJVhECiihBIVBECiSpCIFFFCCTqSHQ91Y1EHYmup7qRqCPRF7UbiToSfVG7kagiBBJVhECiihBIVBECiSpCIFFHouupbl6w+lcsZGYZ5AAAAABJRU5ErkJggg==\", \"id\": \"el47238139939546597776\"}], \"xdomain\": [-0.5, 9.5], \"ylim\": [0.5, -0.5], \"paths\": [], \"sharey\": [], \"sharex\": [], \"axesbgalpha\": null, \"axes\": [{\"scale\": \"linear\", \"tickformat\": null, \"grid\": {\"gridOn\": false}, \"fontsize\": 10.0, \"position\": \"bottom\", \"nticks\": 7, \"tickvalues\": null}, {\"scale\": \"linear\", \"tickformat\": null, \"grid\": {\"gridOn\": false}, \"fontsize\": 10.0, \"position\": \"left\", \"nticks\": 7, \"tickvalues\": null}], \"lines\": [], \"markers\": [], \"id\": \"el47238139939546597840\", \"ydomain\": [0.5, -0.5], \"collections\": [], \"xscale\": \"linear\", \"bbox\": [0.54772727272727262, 0.69744318181818188, 0.35227272727272729, 0.052840909090909105]}, {\"xlim\": [-0.5, 9.5], \"yscale\": \"linear\", \"axesbg\": \"#FFFFFF\", \"texts\": [], \"zoomable\": true, \"images\": [{\"coordinates\": \"data\", \"zorder\": 0, \"extent\": [-0.5, 9.5, 0.5, -0.5], \"alpha\": null, \"data\": \"iVBORw0KGgoAAAANSUhEUgAAAKoAAAASCAYAAADL70WaAAAABHNCSVQICAgIfAhkiAAAARtJREFUaIHtmOEOgyAMhO9a3v+Rx37AFIlKTMCNeV9CLFdcg7tILAGPaEA4SIcxgDyIcZ43OBwOQ8jRGqdcONFSbAQchJMpJvMAbInreRUDcCLrn2tctHJNqduSjzmOy1jX1Vos7onbvCXN7Gi8dnUvYjhAJ5iv65xgSJtgqXmhBeZ7rBhezWvNgbCX92JdiuNG96bewpor/gpeUG/gW4U71r1rCw8z6v7hcXSkDP8TmmfZ79fd/tS4J/Ywo4pZkVHFFMioYgpkVDEFMuoJ3/rWmZdxT+xhRlV7qnddtaeGcK09NZy/a0+N42FG1Ru1d129UYeghn/vumr4C1Ego4opkFHFFMioYgpk1BPU8L+KGv6dUHuqd927tvAGzCs63gSQK5oAAAAASUVORK5CYII=\", \"id\": \"el47238139939565528016\"}], \"xdomain\": [-0.5, 9.5], \"ylim\": [0.5, -0.5], \"paths\": [], \"sharey\": [], \"sharex\": [], \"axesbgalpha\": null, \"axes\": [{\"scale\": \"linear\", \"tickformat\": null, \"grid\": {\"gridOn\": false}, \"fontsize\": 10.0, \"position\": \"bottom\", \"nticks\": 7, \"tickvalues\": null}, {\"scale\": \"linear\", \"tickformat\": null, \"grid\": {\"gridOn\": false}, \"fontsize\": 10.0, \"position\": \"left\", \"nticks\": 7, \"tickvalues\": null}], \"lines\": [], \"markers\": [], \"id\": \"el47238139939565528080\", \"ydomain\": [0.5, -0.5], \"collections\": [], \"xscale\": \"linear\", \"bbox\": [0.125, 0.27471590909090915, 0.35227272727272724, 0.052840909090909105]}, {\"xlim\": [-0.5, 9.5], \"yscale\": \"linear\", \"axesbg\": \"#FFFFFF\", \"texts\": [], \"zoomable\": true, \"images\": [{\"coordinates\": \"data\", \"zorder\": 0, \"extent\": [-0.5, 9.5, 0.5, -0.5], \"alpha\": null, \"data\": \"iVBORw0KGgoAAAANSUhEUgAAAKoAAAASCAYAAADL70WaAAAABHNCSVQICAgIfAhkiAAAAPBJREFUaIHtmOEKwyAMhO9i3Ps/cd0PXXFtx8gGc4H7IBjPFil8bUECpSEMQ3OCI+tFXvev1wwkQRhIO49vs7JnhjJq7qNFFI4CYVP/yO0433tDIU7lx8zaOZuvtQZn66NtcDa4NRRucOu9j75M624byt43sALmgNWpnD1/ygCrUz7uYSVwq0Ctfbzo2+3F2jx/g8UlFd9zfLHz7verJ5GoS/jgJ/an+/3qSSSqSIFEFSmQqCIFElWkQKKKFEjUJeh4KopEXYKOp6JI1CXoixpFoi5BX9QoElWkQKKKFEhUkQKJKlIgUUUKJOoSdDwV5Q53ViDcWUtSxwAAAABJRU5ErkJggg==\", \"id\": \"el47238139939570877200\"}], \"xdomain\": [-0.5, 9.5], \"ylim\": [0.5, -0.5], \"paths\": [], \"sharey\": [], \"sharex\": [], \"axesbgalpha\": null, \"axes\": [{\"scale\": \"linear\", \"tickformat\": null, \"grid\": {\"gridOn\": false}, \"fontsize\": 10.0, \"position\": \"bottom\", \"nticks\": 7, \"tickvalues\": null}, {\"scale\": \"linear\", \"tickformat\": null, \"grid\": {\"gridOn\": false}, \"fontsize\": 10.0, \"position\": \"left\", \"nticks\": 7, \"tickvalues\": null}], \"lines\": [], \"markers\": [], \"id\": \"el47238139939570877264\", \"ydomain\": [0.5, -0.5], \"collections\": [], \"xscale\": \"linear\", \"bbox\": [0.54772727272727262, 0.27471590909090915, 0.35227272727272729, 0.052840909090909105]}], \"height\": 320.0, \"width\": 480.0, \"plugins\": [{\"type\": \"reset\"}, {\"enabled\": false, \"button\": true, \"type\": \"zoom\"}, {\"enabled\": false, \"button\": true, \"type\": \"boxzoom\"}], \"data\": {}, \"id\": \"el47238139942681816720\"});\n",
       "            })\n",
       "         });\n",
       "}\n",
       "</script>"
      ],
      "text/plain": [
       "<matplotlib.figure.Figure at 0x7f46f1d6ae90>"
      ]
     },
     "metadata": {},
     "output_type": "display_data"
    }
   ],
   "source": [
    "subplot(221)\n",
    "imshow([x], cmap=get_cmap(\"viridis\"))\n",
    "subplot(222)\n",
    "imshow([y], cmap=get_cmap(\"viridis\"))\n",
    "subplot(223)\n",
    "imshow([x], cmap=get_cmap(\"magma\"))\n",
    "subplot(224)\n",
    "imshow([yprime], cmap=get_cmap(\"magma\"))"
   ]
  },
  {
   "cell_type": "markdown",
   "metadata": {
    "collapsed": true,
    "hide_input": false,
    "run_control": {
     "read_only": false
    }
   },
   "source": [
    "# Plotting Lines using the defined colormap"
   ]
  },
  {
   "cell_type": "code",
   "execution_count": 4,
   "metadata": {
    "collapsed": false,
    "run_control": {
     "read_only": false
    }
   },
   "outputs": [
    {
     "name": "stdout",
     "output_type": "stream",
     "text": [
      "[0 1 2 3 4 5 6 7 8 9]\n"
     ]
    }
   ],
   "source": [
    "print x\n",
    "y1 = x**2\n",
    "y2 = x**2.2\n",
    "y3 = (x-5)**2"
   ]
  },
  {
   "cell_type": "code",
   "execution_count": 24,
   "metadata": {
    "collapsed": false,
    "hide_input": false,
    "run_control": {
     "marked": false,
     "read_only": false
    }
   },
   "outputs": [
    {
     "data": {
      "text/plain": [
       "[<matplotlib.lines.Line2D at 0x7f4633a05810>]"
      ]
     },
     "execution_count": 24,
     "metadata": {},
     "output_type": "execute_result"
    },
    {
     "data": {
      "image/png": "[encoded data removed]",
      "text/plain": [
       "<matplotlib.figure.Figure at 0x7f4633a7e190>"
      ]
     },
     "metadata": {},
     "output_type": "display_data"
    }
   ],
   "source": [
    "#cm = get_cmap('viridis')\n",
    "#cmlist = [cm(idx/2.0) for idx in arange(3)]\n",
    "#from cycler import cycler\n",
    "#gca().set_prop_cycle(cycler('color', cmlist))\n",
    "\n",
    "plot(x, y1)\n",
    "plot(x, y2)\n",
    "plot(x, y3)"
   ]
  },
  {
   "cell_type": "code",
   "execution_count": 17,
   "metadata": {
    "collapsed": false
   },
   "outputs": [
    {
     "data": {
      "text/plain": [
       "[u'seaborn-darkgrid',\n",
       " u'seaborn-notebook',\n",
       " u'classic',\n",
       " u'seaborn-ticks',\n",
       " u'grayscale',\n",
       " u'bmh',\n",
       " u'seaborn-talk',\n",
       " u'dark_background',\n",
       " u'ggplot',\n",
       " u'fivethirtyeight',\n",
       " u'seaborn-colorblind',\n",
       " u'seaborn-deep',\n",
       " u'seaborn-whitegrid',\n",
       " u'seaborn-bright',\n",
       " u'seaborn-poster',\n",
       " u'seaborn-muted',\n",
       " u'seaborn-paper',\n",
       " u'seaborn-white',\n",
       " u'seaborn-pastel',\n",
       " u'seaborn-dark',\n",
       " u'seaborn-dark-palette']"
      ]
     },
     "execution_count": 17,
     "metadata": {},
     "output_type": "execute_result"
    }
   ],
   "source": [
    "style.available"
   ]
  },
  {
   "cell_type": "code",
   "execution_count": 23,
   "metadata": {
    "collapsed": true
   },
   "outputs": [],
   "source": [
    "style.use('bmh')\n",
    "mpld3.disable_notebook()"
   ]
  },
  {
   "cell_type": "code",
   "execution_count": null,
   "metadata": {
    "collapsed": true
   },
   "outputs": [],
   "source": []
  }
 ],
 "metadata": {
  "celltoolbar": "Show/Hide Input",
  "hide_input": false,
  "kernelspec": {
   "display_name": "Python 2",
   "language": "python",
   "name": "python2"
  },
  "language_info": {
   "codemirror_mode": {
    "name": "ipython",
    "version": 2
   },
   "file_extension": ".py",
   "mimetype": "text/x-python",
   "name": "python",
   "nbconvert_exporter": "python",
   "pygments_lexer": "ipython2",
   "version": "2.7.10"
  },
  "latex_envs": {
   "bibliofile": "biblio.bib",
   "cite_by": "apalike",
   "current_citInitial": 1,
   "eqLabelWithNumbers": true,
   "eqNumInitial": 0
  }
 },
 "nbformat": 4,
 "nbformat_minor": 0
}
