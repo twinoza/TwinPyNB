{
 "cells": [
  {
   "cell_type": "code",
   "execution_count": 17,
   "metadata": {
    "collapsed": false,
    "init_cell": true
   },
   "outputs": [
    {
     "name": "stdout",
     "output_type": "stream",
     "text": [
      "Populating the interactive namespace from numpy and matplotlib\n"
     ]
    },
    {
     "name": "stderr",
     "output_type": "stream",
     "text": [
      "WARNING: pylab import has clobbered these variables: ['power', 'random', 'fft', 'linalg', 'info']\n",
      "`%matplotlib` prevents importing * from pylab and numpy\n"
     ]
    }
   ],
   "source": [
    "%pylab inline\n",
    "pylab.rcParams['figure.figsize'] = 12,10"
   ]
  },
  {
   "cell_type": "code",
   "execution_count": 18,
   "metadata": {
    "collapsed": true,
    "init_cell": true
   },
   "outputs": [],
   "source": [
    "import os\n",
    "import sys\n",
    "from scipy.optimize import leastsq\n",
    "from pylab import *\n",
    "import csv\n",
    "import mpld3"
   ]
  },
  {
   "cell_type": "markdown",
   "metadata": {},
   "source": [
    "# General Functions"
   ]
  },
  {
   "cell_type": "code",
   "execution_count": 19,
   "metadata": {
    "collapsed": false,
    "init_cell": true
   },
   "outputs": [],
   "source": [
    "folderPath=\"/home/noza/work/Braindrop/CDB/BDTests/AHOsc_test/Measurements/\"\n",
    "\n",
    "\n",
    "# This is the readFile to use to take the average value of the sample of frequencies.\n",
    "def readFileAvg(folderPath, fileName):\n",
    "    data = genfromtxt(folderPath+fileName, dtype=float, delimiter=\",\", skip_header=1)\n",
    "    #print data\n",
    "    sampleFreqs = data[:,1::2]\n",
    "    #print sampleFreqs\n",
    "    #print nanmean(sampleFreqs, axis=0)\n",
    "    return nanmean(sampleFreqs, axis=0)\n",
    "\n",
    "# This file will read the params csv file saved by the Parametric Analysis tool\n",
    "def readParams(paramFile, paramTypes, displayVals=False, sortParams=True):\n",
    "    returnVals = []\n",
    "    for i, row in enumerate(csv.reader(paramFile)):\n",
    "        if i<len(paramTypes):\n",
    "            if paramTypes[i]=='int':\n",
    "                tmpList = array([int(x) for x in array(row[1:])])\n",
    "            elif paramTypes[i]=='double':\n",
    "                tmpList = array(double(row[1:]))\n",
    "            elif paramTypes[i]=='str':\n",
    "                tmpList = array(row[1:])\n",
    "            if sortParams:\n",
    "                tmpList = array(sorted(tmpList))\n",
    "            if displayVals:\n",
    "                print \"CurVars[\",i,\"]: \", tmpList\n",
    "            \n",
    "            returnVals.append(tmpList)\n",
    "        else:\n",
    "            print \"Too many rows\"\n",
    "    return returnVals\n",
    "\n",
    "def plotGen(Xs, Ys, temp, pltRange, plotType='.-', \n",
    "            plotLog=False, ttl='Default Title',\n",
    "            xlbl='xLabel', ylbl='yLabel', color=(1,0,0,1)):\n",
    "    rangeX, rangeY = pltRange[0], pltRange[1]    \n",
    "    lenYs = len(Ys)\n",
    "    if plotLog:\n",
    "        loglog(Xs[:lenYs],Ys, plotType, label=str(temp)+\"C\", color=color)\n",
    "    else:\n",
    "        plot(Xs[:lenYs],Ys, plotType, label=str(temp)+\"C\", color=color)\n",
    "    xlabel(xlbl)\n",
    "    ylabel(ylbl)\n",
    "    title(ttl)\n",
    "    xlim(rangeX)\n",
    "    ylim(rangeY)\n",
    "\n",
    "# Plots a series of time points and their y-value at those times\n",
    "def plotTimeSeries(xVals, yVals, clr=(1,0,0,1), \n",
    "                   ttl='', xLbl='', yLbl='',\n",
    "                   xMin=0, xMax=10, yMin=0, yMax=10):\n",
    "    if xMin==None:\n",
    "        xMin = min(xVals)\n",
    "    if xMax==None:\n",
    "        xMax = max(xVals)\n",
    "    if yMin==None:\n",
    "        yMin = min(yVals)\n",
    "    if yMax==None:\n",
    "        yMax = max(yVals)\n",
    "    plot(xVals,yVals, color=clr)\n",
    "    xlabel(xLbl)\n",
    "    ylabel(yLbl)\n",
    "    title(ttl)\n",
    "    xlim([xMin,xMax])\n",
    "    ylim([yMin,yMax])"
   ]
  },
  {
   "cell_type": "code",
   "execution_count": 20,
   "metadata": {
    "collapsed": false,
    "init_cell": true
   },
   "outputs": [
    {
     "name": "stdout",
     "output_type": "stream",
     "text": [
      "CurVars[ 0 ]:  [ 0 20 25 30 50]\n"
     ]
    }
   ],
   "source": [
    "temps, = readParams(open(folderPath+\"AH_InvChar/InvCharSweepParams.csv\"), \n",
    "                                  ['int'], displayVals=True, sortParams=True)"
   ]
  },
  {
   "cell_type": "markdown",
   "metadata": {},
   "source": [
    "# Axon Hillock Delay Characterization\n",
    "In this notebook, I am going to try and characterize the delay of the inverter and how it changes with temperature\n",
    "## Inverter inversion points over temperature\n",
    "The first thing I must do, in order to measure the delay is find out what the inversion voltage of the inverter is at various temperatures.  For posterities sake, I'm also eventually going to do this for thin-oxide devices.\n",
    "### Thick-oxide"
   ]
  },
  {
   "cell_type": "code",
   "execution_count": 21,
   "metadata": {
    "collapsed": false,
    "init_cell": true
   },
   "outputs": [
    {
     "name": "stdout",
     "output_type": "stream",
     "text": [
      "0 :  0.46953196228\n",
      "20 :  0.470760659138\n",
      "25 :  0.471012292507\n",
      "30 :  0.471241586324\n",
      "50 :  0.471930539161\n"
     ]
    }
   ],
   "source": [
    "data = genfromtxt(folderPath+\"AH_InvChar/AH_InvChar_Vinv1Leg.csv\", \n",
    "                  dtype=float, delimiter=\",\", skip_header=1)\n",
    "for i, curTemp in enumerate(temps):\n",
    "    print curTemp,\": \", data[::2][i]\n",
    "invPoints = data[::2]"
   ]
  },
  {
   "cell_type": "markdown",
   "metadata": {},
   "source": [
    "## $V_{cap}$ plot over temperature"
   ]
  },
  {
   "cell_type": "code",
   "execution_count": 22,
   "metadata": {
    "collapsed": true,
    "init_cell": true
   },
   "outputs": [],
   "source": [
    "def timeAlignPlots(data, offsets, temps, tempsToPlot, yInterceptVal=0):\n",
    "    for i, curTemp in enumerate(tempsToPlot):\n",
    "        curBlue = 1.*(max(temps) - curTemp)/max(temps)\n",
    "        curRed = 1.*curTemp/max(temps)\n",
    "        curColor = (curRed, 0, curBlue, 1)\n",
    "    #        curDchColor = (curRed, 0.5, curBlue, 1)\n",
    "\n",
    "        #print \"===============\", curTemp\n",
    "        curTimes = data[:,2*i]\n",
    "        curVcapVal = data[:,2*i+1]\n",
    "\n",
    "        # If offsets is a value greater than zero, use that value to offset the\n",
    "        # waveforms equally\n",
    "        if offsets[i]<=0:\n",
    "            # Figure out where the system resets and subtract that value from the times\n",
    "            timeMask = where(curTimes>.0*max(curTimes))[0]\n",
    "            #print curTimes[timeMask[0]]\n",
    "            mask = where(curVcapVal>yInterceptVal)[0]\n",
    "            #print curTimes[mask[0]]\n",
    "            mask = mask[mask>timeMask[0]]\n",
    "            offsets[i] = curTimes[mask[0]]\n",
    "        newVcapTimes = curTimes-offsets[i]\n",
    "\n",
    "        # Plot the results\n",
    "        subplot(len(tempsToPlot),1,i+1)\n",
    "        plotTimeSeries(newVcapTimes, curVcapVal, clr=curColor,\n",
    "                       ttl=\"$V_{cap}$\\t$T$=%.0f C\"%curTemp, xLbl='t (s)', yLbl='V (V)',\n",
    "                       xMin=0, xMax=max(curTimes),\n",
    "                       yMin=0.98*min(curVcapVal), yMax=1.02*max(curVcapVal))\n",
    "        #vlines(curTimes[mask], 0, 1, color=curColor)\n",
    "        #vlines(curTimes[timeMask[0]], 0, 1, color=(1,0,0,1))\n",
    "    tight_layout()\n",
    "    #print offsets\n",
    "    return offsets"
   ]
  },
  {
   "cell_type": "code",
   "execution_count": 23,
   "metadata": {
    "collapsed": true,
    "init_cell": true
   },
   "outputs": [],
   "source": [
    "VcapLim = 0.475\n",
    "tempsToPlot = temps[[0,2,4]]\n",
    "offsets = zeros(len(tempsToPlot))"
   ]
  },
  {
   "cell_type": "code",
   "execution_count": 17,
   "metadata": {
    "collapsed": false
   },
   "outputs": [],
   "source": [
    "fileName = \"AH_InvChar/AH_Vcap_IdealCS_C1_400x_C2_3x_Iin2x_10p_RBB-1V.csv\"\n",
    "VcapData = genfromtxt(folderPath+fileName, dtype=float, delimiter=\",\", skip_header=1)\n",
    "#offsets = timeAlignPlots(VcapData,offsets,temps,tempsToPlot,VcapLim)"
   ]
  },
  {
   "cell_type": "markdown",
   "metadata": {},
   "source": [
    "## $V_{out}$ plot over temperature"
   ]
  },
  {
   "cell_type": "code",
   "execution_count": 18,
   "metadata": {
    "collapsed": false,
    "scrolled": false
   },
   "outputs": [],
   "source": [
    "fileName2 = \"AH_InvChar/AH_Vout_IdealCS_C1_400x_C2_3x_Iin2x_10p_RBB-1V.csv\"\n",
    "VoutData = genfromtxt(folderPath+fileName2, dtype=float, delimiter=\",\", skip_header=1)\n",
    "#offsets2 = timeAlignPlots(VoutData,offsets,temps,tempsToPlot)"
   ]
  },
  {
   "cell_type": "markdown",
   "metadata": {},
   "source": [
    "## Determine error due to change in inverter delay"
   ]
  },
  {
   "cell_type": "code",
   "execution_count": 24,
   "metadata": {
    "collapsed": false,
    "init_cell": true
   },
   "outputs": [],
   "source": [
    "def getIntersectTimes(data, threshold):\n",
    "    timeData, valData  = data[:,0], data[:,1]\n",
    "    diffData = valData-threshold\n",
    "    #print diffData\n",
    "    diffDataSign = sign(diffData)\n",
    "    #print diffDataSign\n",
    "    changeData = ((np.roll(diffDataSign, 1) - diffDataSign) != 0).astype(int)\n",
    "    changeData[0] = 0\n",
    "    #print len(changeData), changeData\n",
    "    indexOfChange = where(changeData==1)[0]\n",
    "    #print indexOfChange\n",
    "    dt = (timeData[indexOfChange]-timeData[indexOfChange-1])*1.\n",
    "    dV = (valData[indexOfChange]-valData[indexOfChange-1])*1.\n",
    "    intersectTimes = timeData[indexOfChange]-(dt/dV*(valData[indexOfChange]-threshold))\n",
    "    return intersectTimes, indexOfChange\n",
    "\n",
    "def getFreq(data, threshold):\n",
    "    intersectTimes, indexOfChange = getIntersectTimes(data, threshold)\n",
    "    freq1 = 1./diff(intersectTimes[::2])\n",
    "    freq2 = 1./diff(intersectTimes[1::2])\n",
    "    return freq1, freq2\n",
    "\n",
    "def getPer(data, threshold):\n",
    "    intersectTimes, indexOfChange = getIntersectTimes(data, threshold)\n",
    "    per1 = diff(intersectTimes[::2])\n",
    "    per2 = diff(intersectTimes[1::2])\n",
    "    return per1, per2\n",
    "\n",
    "def delayError(invPoints, VcapData, VoutData):\n",
    "    avgInvDelays = []\n",
    "    avgRegrPers = []\n",
    "    avgPers = []\n",
    "    avgFreqs = []\n",
    "    for i, curInvPt in enumerate(invPoints):\n",
    "        print invPoints[i]\n",
    "        #print VcapData[:,2*i+1]\n",
    "        curVcapData = VcapData[:,2*i:2*i+2]\n",
    "        #print curVcapData\n",
    "        curVcapData = curVcapData[~np.isnan(curVcapData).any(1)]\n",
    "        #print curVcapData[:,1]\n",
    "\n",
    "        curVoutData = VoutData[:,2*i:2*i+2]\n",
    "        curVoutData = curVoutData[~np.isnan(curVoutData).any(1)]\n",
    "        #print curVoutData[:,1]\n",
    "\n",
    "        VcapIntersectTimes, VcapIntersectPts = getIntersectTimes(curVcapData, invPoints[i])\n",
    "        #print \"Vcap Intersect Times: \", VcapIntersectTimes\n",
    "        VoutIntersectTimes, VoutIntersectPts = getIntersectTimes(curVoutData, invPoints[i])\n",
    "        #print \"Vout Intersect Times: \", VoutIntersectTimes\n",
    "        invDelays = VoutIntersectTimes-VcapIntersectTimes\n",
    "        #print \"Vout - Vcap Delays: \", invDelays\n",
    "        regrPer = VcapIntersectTimes[1:]-VoutIntersectTimes[:-1]\n",
    "        #print \"Regression Duration: \", regrPer\n",
    "        stagePeriods = regrPer + invDelays[:-1]\n",
    "        #print \"Perc of half-period to rise: \", invDelays[:-1]/diff(VcapIntersectTimes)\n",
    "\n",
    "        avgInvDelays.append(mean(invDelays))\n",
    "        avgRegrPers.append(mean(regrPer))\n",
    "        avgPers.append(2.*(mean(invDelays)+mean(regrPer)))\n",
    "        avgFreqs.append(1./( 2.*(mean(invDelays)+mean(regrPer))))\n",
    "        print \"Avg Vo-Vc Delay: \", avgInvDelays[-1]\n",
    "        print \"Avg Regr Duration: \", avgRegrPers[-1]\n",
    "        print \"Avg Calc Period: \", avgPers[-1]\n",
    "        print \"Avg Calc Freq: \", avgFreqs[-1]\n",
    "        \n",
    "        #VcapF1, VcapF2 = getFreq(curVcapData,invPoints[i])\n",
    "        #print \"Vcap Freq\", VcapF1, VcapF2\n",
    "        #VoutF1, VoutF2 = getFreq(curVoutData,invPoints[i])\n",
    "        #print \"Vout Freq\", VoutF1, VoutF2\n",
    "        \n",
    "        #VcapT1, VcapT2 = getPer(curVcapData,invPoints[i])\n",
    "        #print \"Vcap Periods: \", VcapT1, '\\n', VcapT2\n",
    "        #print \"Avg Meas Period: \", mean([mean(VcapT1), mean(VcapT2)])\n",
    "        #VoutT1, VoutT2 = getPer(curVoutData,invPoints[i])\n",
    "        #print \"Vout Periods: \", VoutT1, VoutT2\n",
    "        \n",
    "        #print \"Vout Zipped Periods: \", array([x for t in zip(VoutT1, VoutT2) for x in t])\n",
    "        #print \"Vout Avg Period:\", mean([mean(VoutT1), mean(VoutT2)])\n",
    "        print\n",
    "    return avgInvDelays, avgRegrPers, avgPers, avgFreqs\n",
    "\n",
    "# Test Data to test some of the functions above        \n",
    "#curVcapData = arange(0,10,1)\n",
    "#curVcapData = array([concatenate([curVcapData,curVcapData+10,curVcapData+20,curVcapData+30]),\n",
    "#                     5+concatenate([curVcapData,curVcapData[::-1],curVcapData,curVcapData[::-1]])]).T\n",
    "##print curVcapData\n",
    "#VcapIntersectTimes, VcapIntersectPts = getIntersectTimes(curVcapData, 8.1)\n",
    "#f1, f2 = getFreq(curVcapData, 8.1)\n",
    "##print VcapIntersectTimes, VcapIntersectPts\n",
    "##print f1, f2"
   ]
  },
  {
   "cell_type": "markdown",
   "metadata": {},
   "source": [
    "### Ideal Ckt"
   ]
  },
  {
   "cell_type": "code",
   "execution_count": 33,
   "metadata": {
    "collapsed": false
   },
   "outputs": [
    {
     "name": "stdout",
     "output_type": "stream",
     "text": [
      "0.471\n",
      "Avg Vo-Vc Delay:  3.13099182142e-07\n",
      "Avg Regr Duration:  2.17149577497e-05\n",
      "Avg Calc Period:  4.40561138637e-05\n",
      "Avg Calc Freq:  22698.3252107\n",
      "\n"
     ]
    }
   ],
   "source": [
    "fileName = \"AH_InvChar/AH_Vcap_IdealCkt.csv\"\n",
    "idealVcapData = genfromtxt(folderPath+fileName, dtype=float, delimiter=\",\", skip_header=1)\n",
    "#offsets = timeAlignPlots(idealVcapData,offsets,temps,tempsToPlot,VcapLim)\n",
    "fileName2 = \"AH_InvChar/AH_Vout_IdealCkt.csv\"\n",
    "idealVoutData = genfromtxt(folderPath+fileName2, dtype=float, delimiter=\",\", skip_header=1)\n",
    "#offsets2 = timeAlignPlots(idealVoutData,offsets,temps,tempsToPlot)\n",
    "#print idealVcapData[:,0:2]\n",
    "avgInvDelays, avgRegrPers, avgPers, avgFreqs = delayError([.471], idealVcapData[:,0:2], idealVoutData[:,0:2])"
   ]
  },
  {
   "cell_type": "markdown",
   "metadata": {},
   "source": [
    "### IdealCS C1 400x, C2 3x, Iin 2x 10p, RBB -1V"
   ]
  },
  {
   "cell_type": "code",
   "execution_count": 34,
   "metadata": {
    "collapsed": false
   },
   "outputs": [
    {
     "name": "stdout",
     "output_type": "stream",
     "text": [
      "0.46953196228\n",
      "Avg Vo-Vc Delay:  7.93419901974e-07\n",
      "Avg Regr Duration:  1.88043288537e-05\n",
      "Avg Calc Period:  3.91954975113e-05\n",
      "Avg Calc Freq:  25513.1345051\n",
      "\n",
      "0.470760659138\n",
      "Avg Vo-Vc Delay:  3.78665416719e-07\n",
      "Avg Regr Duration:  1.80139901067e-05\n",
      "Avg Calc Period:  3.67853110468e-05\n",
      "Avg Calc Freq:  27184.7640143\n",
      "\n",
      "0.471012292507\n",
      "Avg Vo-Vc Delay:  3.19190257176e-07\n",
      "Avg Regr Duration:  1.78640198023e-05\n",
      "Avg Calc Period:  3.63664201189e-05\n",
      "Avg Calc Freq:  27497.8949462\n",
      "\n",
      "0.471241586324\n",
      "Avg Vo-Vc Delay:  2.7075875002e-07\n",
      "Avg Regr Duration:  1.77383199909e-05\n",
      "Avg Calc Period:  3.60181574818e-05\n",
      "Avg Calc Freq:  27763.7744381\n",
      "\n",
      "0.471930539161\n",
      "Avg Vo-Vc Delay:  1.47035964634e-07\n",
      "Avg Regr Duration:  1.73090206307e-05\n",
      "Avg Calc Period:  3.49121131906e-05\n",
      "Avg Calc Freq:  28643.3535129\n",
      "\n",
      "[0.042193470883692664, 0.021020629770315619, 0.017867773362813227, 0.015264058273754516, 0.0084947593380016208]\n",
      "2.02507414562\n",
      "0.0837050249349\n",
      "0.117784052064\n",
      "0.1138348595\n"
     ]
    }
   ],
   "source": [
    "fileName = \"AH_InvChar/AH_Vcap_IdealCS_C1_400x_C2_3x_Iin2x_10p_RBB-1V.csv\"\n",
    "VcapData = genfromtxt(folderPath+fileName, dtype=float, delimiter=\",\", skip_header=1)\n",
    "#offsets = timeAlignPlots(idealVcapData,offsets,temps,tempsToPlot,VcapLim)\n",
    "fileName2 = \"AH_InvChar/AH_Vout_IdealCS_C1_400x_C2_3x_Iin2x_10p_RBB-1V.csv\"\n",
    "VoutData = genfromtxt(folderPath+fileName2, dtype=float, delimiter=\",\", skip_header=1)\n",
    "#offsets2 = timeAlignPlots(idealVoutData,offsets,temps,tempsToPlot)\n",
    "avgInvDelays, avgRegrPers, avgPers, avgFreqs = delayError(invPoints, VcapData, VoutData)\n",
    "#print '\\n',avgInvDelays,'\\n', avgRegrPers,'\\n', avgPers,'\\n', avgFreqs\n",
    "\n",
    "print [avgInvDelays[i]/avgRegrPers[i] for i in range(len(avgRegrPers))]\n",
    "\n",
    "print (max(avgInvDelays)-min(avgInvDelays))/mean(avgInvDelays[2])\n",
    "print (max(avgRegrPers)-min(avgRegrPers))/mean(avgRegrPers[2])\n",
    "print (max(avgPers)-min(avgPers))/mean(avgPers[2])\n",
    "print (max(avgFreqs)-min(avgFreqs))/mean(avgFreqs[2])"
   ]
  },
  {
   "cell_type": "markdown",
   "metadata": {},
   "source": [
    "### IdealCS C1 1x, C2 3x, Iin 2x 10p, RBB -1V"
   ]
  },
  {
   "cell_type": "code",
   "execution_count": 35,
   "metadata": {
    "collapsed": false
   },
   "outputs": [
    {
     "name": "stdout",
     "output_type": "stream",
     "text": [
      "0.46953196228\n",
      "Avg Vo-Vc Delay:  0.0\n",
      "Avg Regr Duration:  1.86594560417e-05\n",
      "Avg Calc Period:  3.73189120835e-05\n",
      "Avg Calc Freq:  26796.065163\n",
      "\n",
      "0.470760659138\n",
      "Avg Vo-Vc Delay:  0.0\n",
      "Avg Regr Duration:  1.85015620404e-05\n",
      "Avg Calc Period:  3.70031240808e-05\n",
      "Avg Calc Freq:  27024.745203\n",
      "\n",
      "0.471012292507\n",
      "Avg Vo-Vc Delay:  0.0\n",
      "Avg Regr Duration:  1.84722049407e-05\n",
      "Avg Calc Period:  3.69444098813e-05\n",
      "Avg Calc Freq:  27067.6944959\n",
      "\n",
      "0.471241586324\n",
      "Avg Vo-Vc Delay:  0.0\n",
      "Avg Regr Duration:  1.84456594375e-05\n",
      "Avg Calc Period:  3.68913188749e-05\n",
      "Avg Calc Freq:  27106.6481356\n",
      "\n",
      "0.471930539161\n",
      "Avg Vo-Vc Delay:  0.0\n",
      "Avg Regr Duration:  1.83564096359e-05\n",
      "Avg Calc Period:  3.67128192718e-05\n",
      "Avg Calc Freq:  27238.4420438\n",
      "\n",
      "[0.0, 0.0, 0.0, 0.0, 0.0]\n",
      "nan\n",
      "0.0164055350634\n",
      "0.0164055350634\n",
      "0.0163433528087\n"
     ]
    },
    {
     "name": "stderr",
     "output_type": "stream",
     "text": [
      "/opt/anaconda/lib/python2.7/site-packages/ipykernel/__main__.py:12: RuntimeWarning: invalid value encountered in double_scalars\n"
     ]
    }
   ],
   "source": [
    "fileName = \"AH_InvChar/AH_Vcap_IdealCS_C1_1x_C2_3x_Iin2x_10p_RBB-1V.csv\"\n",
    "VcapData = genfromtxt(folderPath+fileName, dtype=float, delimiter=\",\", skip_header=1)\n",
    "#offsets = timeAlignPlots(idealVcapData,offsets,temps,tempsToPlot,VcapLim)\n",
    "fileName2 = \"AH_InvChar/AH_Vout_IdealCS_C1_1x_C2_3x_Iin2x_10p_RBB-1V.csv\"\n",
    "VoutData = genfromtxt(folderPath+fileName2, dtype=float, delimiter=\",\", skip_header=1)\n",
    "#offsets2 = timeAlignPlots(idealVoutData,offsets,temps,tempsToPlot)\n",
    "avgInvDelays, avgRegrPers, avgPers, avgFreqs = delayError(invPoints, VcapData, VoutData)\n",
    "#print '\\n',avgInvDelays,'\\n', avgRegrPers,'\\n', avgPers,'\\n', avgFreqs\n",
    "\n",
    "print [avgInvDelays[i]/avgRegrPers[i] for i in range(len(avgRegrPers))]\n",
    "\n",
    "print (max(avgInvDelays)-min(avgInvDelays))/mean(avgInvDelays[2])\n",
    "print (max(avgRegrPers)-min(avgRegrPers))/mean(avgRegrPers[2])\n",
    "print (max(avgPers)-min(avgPers))/mean(avgPers[2])\n",
    "print (max(avgFreqs)-min(avgFreqs))/mean(avgFreqs[2])"
   ]
  },
  {
   "cell_type": "markdown",
   "metadata": {},
   "source": [
    "### IdealCS C1 400x, C2 4x, Iin 2x 10p, RBB -1V, Ideal Inverter1\n",
    "In this test, I made the first inverter ideal to see if the variation in the delay to temperature continues to propogate through the circuit if the first inverter is ideal."
   ]
  },
  {
   "cell_type": "code",
   "execution_count": 36,
   "metadata": {
    "collapsed": false
   },
   "outputs": [
    {
     "name": "stdout",
     "output_type": "stream",
     "text": [
      "0.46953196228\n",
      "Avg Vo-Vc Delay:  4.26199369056e-08\n",
      "Avg Regr Duration:  2.34176917774e-05\n",
      "Avg Calc Period:  4.69206234287e-05\n",
      "Avg Calc Freq:  21312.5897937\n",
      "\n",
      "0.470760659138\n",
      "Avg Vo-Vc Delay:  2.06923178464e-08\n",
      "Avg Regr Duration:  2.31798088064e-05\n",
      "Avg Calc Period:  4.64010022485e-05\n",
      "Avg Calc Freq:  21551.2586268\n",
      "\n",
      "0.471012292507\n",
      "Avg Vo-Vc Delay:  1.75702838145e-08\n",
      "Avg Regr Duration:  2.312819006e-05\n",
      "Avg Calc Period:  4.62915206877e-05\n",
      "Avg Calc Freq:  21602.2283378\n",
      "\n",
      "0.471241586324\n",
      "Avg Vo-Vc Delay:  1.49964637621e-08\n",
      "Avg Regr Duration:  2.3078352233e-05\n",
      "Avg Calc Period:  4.61866973934e-05\n",
      "Avg Calc Freq:  21651.2558038\n",
      "\n",
      "0.471930539161\n",
      "Avg Vo-Vc Delay:  8.46099174822e-09\n",
      "Avg Regr Duration:  2.28877298785e-05\n",
      "Avg Calc Period:  4.57923817405e-05\n",
      "Avg Calc Freq:  21837.6935637\n",
      "\n",
      "[0.0018199888063565547, 0.00089268716663096204, 0.00075969125854044508, 0.00064980652044371401, 0.00036967369822782852]\n",
      "1.94413166675\n",
      "0.022914110337\n",
      "0.0243725345682\n",
      "0.0243078520311\n"
     ]
    }
   ],
   "source": [
    "fileName = \"AH_InvChar/AH_Vcap_IdealCS_IdealInv1_C1_400x_C2_4x_Iin2x_10p_RBB-1V.csv\"\n",
    "VcapData = genfromtxt(folderPath+fileName, dtype=float, delimiter=\",\", skip_header=1)\n",
    "#offsets = timeAlignPlots(idealVcapData,offsets,temps,tempsToPlot,VcapLim)\n",
    "fileName2 = \"AH_InvChar/AH_Vout_IdealCS_IdealInv1_C1_400x_C2_4x_Iin2x_10p_RBB-1V.csv\"\n",
    "VoutData = genfromtxt(folderPath+fileName2, dtype=float, delimiter=\",\", skip_header=1)\n",
    "#offsets2 = timeAlignPlots(idealVoutData,offsets,temps,tempsToPlot)\n",
    "avgInvDelays, avgRegrPers, avgPers, avgFreqs = delayError(invPoints, VcapData, VoutData)\n",
    "#print '\\n',avgInvDelays,'\\n', avgRegrPers,'\\n', avgPers,'\\n', avgFreqs\n",
    "\n",
    "print [avgInvDelays[i]/avgRegrPers[i] for i in range(len(avgRegrPers))]\n",
    "\n",
    "print (max(avgInvDelays)-min(avgInvDelays))/mean(avgInvDelays[2])\n",
    "print (max(avgRegrPers)-min(avgRegrPers))/mean(avgRegrPers[2])\n",
    "print (max(avgPers)-min(avgPers))/mean(avgPers[2])\n",
    "print (max(avgFreqs)-min(avgFreqs))/mean(avgFreqs[2])"
   ]
  },
  {
   "cell_type": "markdown",
   "metadata": {
    "collapsed": true
   },
   "source": [
    "### IdealCS C1 400x, C2 4x, Iin 2x 10p, RBB -1V, Ideal Inverters"
   ]
  },
  {
   "cell_type": "code",
   "execution_count": 37,
   "metadata": {
    "collapsed": false
   },
   "outputs": [
    {
     "name": "stdout",
     "output_type": "stream",
     "text": [
      "0.46953196228\n",
      "Avg Vo-Vc Delay:  3.04388817509e-07\n",
      "Avg Regr Duration:  2.44825347116e-05\n",
      "Avg Calc Period:  4.95738470582e-05\n",
      "Avg Calc Freq:  20171.9265165\n",
      "\n",
      "0.470760659138\n",
      "Avg Vo-Vc Delay:  3.00766798969e-07\n",
      "Avg Regr Duration:  2.44974987352e-05\n",
      "Avg Calc Period:  4.95965310683e-05\n",
      "Avg Calc Freq:  20162.7004643\n",
      "\n",
      "0.471012292507\n",
      "Avg Vo-Vc Delay:  3.0564011339e-07\n",
      "Avg Regr Duration:  2.44965782558e-05\n",
      "Avg Calc Period:  4.96044367383e-05\n",
      "Avg Calc Freq:  20159.487049\n",
      "\n",
      "0.471241586324\n",
      "Avg Vo-Vc Delay:  3.04937035454e-07\n",
      "Avg Regr Duration:  2.4500359254e-05\n",
      "Avg Calc Period:  4.9610592579e-05\n",
      "Avg Calc Freq:  20156.9855955\n",
      "\n",
      "0.471930539161\n",
      "Avg Vo-Vc Delay:  3.0935108637e-07\n",
      "Avg Regr Duration:  2.45165786132e-05\n",
      "Avg Calc Period:  4.96518593991e-05\n",
      "Avg Calc Freq:  20140.232654\n",
      "\n",
      "[0.012432896393076563, 0.012277449311055491, 0.012476849223528473, 0.012446227105981807, 0.012618036604963556]\n",
      "0.0280862590502\n",
      "0.00138974109976\n",
      "0.00157268877669\n",
      "0.00157215620138\n"
     ]
    }
   ],
   "source": [
    "fileName = \"AH_InvChar/AH_Vcap_IdealCS_IdealInvs_C1_400x_C2_4x_Iin2x_10p_RBB-1V.csv\"\n",
    "VcapData = genfromtxt(folderPath+fileName, dtype=float, delimiter=\",\", skip_header=1)\n",
    "#offsets = timeAlignPlots(idealVcapData,offsets,temps,tempsToPlot,VcapLim)\n",
    "fileName2 = \"AH_InvChar/AH_Vout_IdealCS_IdealInvs_C1_400x_C2_4x_Iin2x_10p_RBB-1V.csv\"\n",
    "VoutData = genfromtxt(folderPath+fileName2, dtype=float, delimiter=\",\", skip_header=1)\n",
    "#offsets2 = timeAlignPlots(idealVoutData,offsets,temps,tempsToPlot)\n",
    "avgInvDelays, avgRegrPers, avgPers, avgFreqs = delayError(invPoints, VcapData, VoutData)\n",
    "#print '\\n',avgInvDelays,'\\n', avgRegrPers,'\\n', avgPers,'\\n', avgFreqs\n",
    "\n",
    "print [avgInvDelays[i]/avgRegrPers[i] for i in range(len(avgRegrPers))]\n",
    "\n",
    "print (max(avgInvDelays)-min(avgInvDelays))/mean(avgInvDelays[2])\n",
    "print (max(avgRegrPers)-min(avgRegrPers))/mean(avgRegrPers[2])\n",
    "print (max(avgPers)-min(avgPers))/mean(avgPers[2])\n",
    "print (max(avgFreqs)-min(avgFreqs))/mean(avgFreqs[2])"
   ]
  },
  {
   "cell_type": "markdown",
   "metadata": {},
   "source": [
    "### IdealCS C1 400x, C2 3x, Iin 2x 10p, RBB -1V, Ideal Inverters Ainv 800x\n",
    "Previous to this test, the gain of the inverter (Ainv) was set to 80 to match roughly what the gain of the inverters are in real life.\n",
    "\n",
    "This test will hopefully show that by increasing the gain of the inverters, I am able to  decrease the Vo-Vc delay, and therefore, minimize the dependence on a large capacitor."
   ]
  },
  {
   "cell_type": "code",
   "execution_count": 38,
   "metadata": {
    "collapsed": false
   },
   "outputs": [
    {
     "name": "stdout",
     "output_type": "stream",
     "text": [
      "0.46953196228\n",
      "Avg Vo-Vc Delay:  3.2603029359e-09\n",
      "Avg Regr Duration:  1.89394771528e-05\n",
      "Avg Calc Period:  3.78854749115e-05\n",
      "Avg Calc Freq:  26395.3402283\n",
      "\n",
      "0.470760659138\n",
      "Avg Vo-Vc Delay:  3.56367980754e-09\n",
      "Avg Regr Duration:  1.89505849247e-05\n",
      "Avg Calc Period:  3.7908297209e-05\n",
      "Avg Calc Freq:  26379.4491873\n",
      "\n",
      "0.471012292507\n",
      "Avg Vo-Vc Delay:  5.71740396043e-09\n",
      "Avg Regr Duration:  1.89510493071e-05\n",
      "Avg Calc Period:  3.79135334221e-05\n",
      "Avg Calc Freq:  26375.8059389\n",
      "\n",
      "0.471241586324\n",
      "Avg Vo-Vc Delay:  3.8069365604e-09\n",
      "Avg Regr Duration:  1.89563280156e-05\n",
      "Avg Calc Period:  3.79202699044e-05\n",
      "Avg Calc Freq:  26371.1203143\n",
      "\n",
      "0.471930539161\n",
      "Avg Vo-Vc Delay:  3.37129661442e-09\n",
      "Avg Regr Duration:  1.89688211513e-05\n",
      "Avg Calc Period:  3.79443848958e-05\n",
      "Avg Calc Freq:  26354.3605397\n",
      "\n",
      "[0.0001721432386748282, 0.00018805117740203344, 0.00030169326604420095, 0.00020082668738717404, 0.00017772831466606004]\n",
      "0.429758163239\n",
      "0.00154841022025\n",
      "0.00155379831165\n",
      "0.00155368479255\n"
     ]
    }
   ],
   "source": [
    "fileName = \"AH_InvChar/AH_Vcap_IdealCS_IdealInvs_C1_400x_C2_3x_Iin2x_10p_RBB-1V_Ainv800.csv\"\n",
    "VcapData = genfromtxt(folderPath+fileName, dtype=float, delimiter=\",\", skip_header=1)\n",
    "#offsets = timeAlignPlots(idealVcapData,offsets,temps,tempsToPlot,VcapLim)\n",
    "fileName2 = \"AH_InvChar/AH_Vout_IdealCS_IdealInvs_C1_400x_C2_3x_Iin2x_10p_RBB-1V_Ainv800.csv\"\n",
    "VoutData = genfromtxt(folderPath+fileName2, dtype=float, delimiter=\",\", skip_header=1)\n",
    "#offsets2 = timeAlignPlots(idealVoutData,offsets,temps,tempsToPlot)\n",
    "avgInvDelays, avgRegrPers, avgPers, avgFreqs = delayError(invPoints, VcapData, VoutData)\n",
    "#print '\\n',avgInvDelays,'\\n', avgRegrPers,'\\n', avgPers,'\\n', avgFreqs\n",
    "\n",
    "print [avgInvDelays[i]/avgRegrPers[i] for i in range(len(avgRegrPers))]\n",
    "\n",
    "print (max(avgInvDelays)-min(avgInvDelays))/mean(avgInvDelays[2])\n",
    "print (max(avgRegrPers)-min(avgRegrPers))/mean(avgRegrPers[2])\n",
    "print (max(avgPers)-min(avgPers))/mean(avgPers[2])\n",
    "print (max(avgFreqs)-min(avgFreqs))/mean(avgFreqs[2])"
   ]
  },
  {
   "cell_type": "markdown",
   "metadata": {
    "collapsed": true
   },
   "source": [
    "## Function to calculate percentage error given jump distance, at various temperatures"
   ]
  },
  {
   "cell_type": "code",
   "execution_count": 23,
   "metadata": {
    "collapsed": false
   },
   "outputs": [
    {
     "name": "stdout",
     "output_type": "stream",
     "text": [
      "Inversion Voltages:  [ 0.46953196  0.47076066  0.47101229  0.47124159  0.47193054]\n",
      "3W Inverter\n",
      "0.0492235915234\n",
      "0.0779773121992\n",
      "1W Inverter\n",
      "0.0786153385795\n",
      "0.156178560761\n"
     ]
    }
   ],
   "source": [
    "def percErrorDV(Vinv1, V1, Vinv2, V2):\n",
    "    dV1 = abs(V1 - Vinv1)\n",
    "    dV2 = abs(V2 - Vinv2)\n",
    "    #print dV1, dV2\n",
    "    #print mean((dV1, dV2))\n",
    "    #print abs(dV1-dV2)\n",
    "    \n",
    "    return abs(dV1-dV2)/mean((dV1,dV2))\n",
    "\n",
    "print \"Inversion Voltages: \", invPoints\n",
    "print \"3W Inverter\"\n",
    "print percErrorDV(invPoints[0], 724.3731e-3, invPoints[4], 714.5288e-3)\n",
    "print percErrorDV(invPoints[0], 252.48606e-3, invPoints[4], 237.27334e-3)\n",
    "\n",
    "print \"1W Inverter, with C1 150a, C2 150a\"\n",
    "print percErrorDV(invPoints[0], 613.8756e-3, invPoints[4], 628.0861e-3)\n",
    "print percErrorDV(invPoints[0], 348.6124e-3, invPoints[4], 330.5263e-3)"
   ]
  },
  {
   "cell_type": "code",
   "execution_count": null,
   "metadata": {
    "collapsed": true
   },
   "outputs": [],
   "source": []
  }
 ],
 "metadata": {
  "hide_input": false,
  "kernelspec": {
   "display_name": "Python 2",
   "language": "python",
   "name": "python2"
  },
  "language_info": {
   "codemirror_mode": {
    "name": "ipython",
    "version": 2
   },
   "file_extension": ".py",
   "mimetype": "text/x-python",
   "name": "python",
   "nbconvert_exporter": "python",
   "pygments_lexer": "ipython2",
   "version": "2.7.11"
  },
  "latex_envs": {
   "bibliofile": "biblio.bib",
   "cite_by": "apalike",
   "current_citInitial": 1,
   "eqLabelWithNumbers": true,
   "eqNumInitial": 0
  }
 },
 "nbformat": 4,
 "nbformat_minor": 0
}
