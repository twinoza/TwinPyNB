{
 "cells": [
  {
   "cell_type": "markdown",
   "metadata": {},
   "source": [
    "# Testing IPython 4.x Extensions"
   ]
  },
  {
   "cell_type": "markdown",
   "metadata": {},
   "source": [
    "Because the nature of Jupyter and Ipython changed from 3.x to 4.x, the following code will help me test and understand how to use the new extensions.\n",
    "\n",
    "The first thing I need to do is find my Jupyter data directory, which will allow me to see where my local extensions and templates can be found."
   ]
  },
  {
   "cell_type": "code",
   "execution_count": 1,
   "metadata": {
    "collapsed": false,
    "run_control": {
     "read_only": false
    }
   },
   "outputs": [
    {
     "name": "stdout",
     "output_type": "stream",
     "text": [
      "/home/noza/.local/share/jupyter\n",
      "['/home/noza/.local/share/jupyter', '/opt/anaconda/share/jupyter', '/usr/local/share/jupyter', '/usr/share/jupyter']\n"
     ]
    }
   ],
   "source": [
    "from __future__ import print_function\n",
    "from jupyter_core.paths import jupyter_data_dir, jupyter_path\n",
    "print(jupyter_data_dir())\n",
    "print(jupyter_path())"
   ]
  },
  {
   "cell_type": "markdown",
   "metadata": {},
   "source": [
    "The next thing is to find my config directory to see where my local configuration files can be found"
   ]
  },
  {
   "cell_type": "code",
   "execution_count": 2,
   "metadata": {
    "collapsed": false,
    "run_control": {
     "read_only": false
    }
   },
   "outputs": [
    {
     "name": "stdout",
     "output_type": "stream",
     "text": [
      "/home/noza/.jupyter\n",
      "['/home/noza/.jupyter', '/opt/anaconda/etc/jupyter', '/usr/local/etc/jupyter', '/etc/jupyter']\n"
     ]
    }
   ],
   "source": [
    "from jupyter_core.paths import jupyter_config_dir, jupyter_config_path\n",
    "print(jupyter_config_dir())\n",
    "print(jupyter_config_path())"
   ]
  },
  {
   "cell_type": "code",
   "execution_count": 3,
   "metadata": {
    "collapsed": false,
    "run_control": {
     "read_only": false
    }
   },
   "outputs": [
    {
     "data": {
      "text/plain": [
       "True"
      ]
     },
     "execution_count": 3,
     "metadata": {},
     "output_type": "execute_result"
    }
   ],
   "source": [
    "import notebook\n",
    "notebook.nbextensions.check_nbextension('usability/codefolding', user=True)\n",
    "notebook.nbextensions.check_nbextension('usability/codefolding/main.js', user=True)"
   ]
  },
  {
   "cell_type": "code",
   "execution_count": 10,
   "metadata": {
    "collapsed": false,
    "run_control": {
     "read_only": false
    }
   },
   "outputs": [
    {
     "data": {
      "text/html": [
       "\n",
       "<table border=\"1\">\n",
       "  <tr>\n",
       "    <th>Extension name</th>\n",
       "  </tr>\n",
       "<tr><td>usability/runtools/main</td>\n",
       "<tr><td>usability/codefolding/main</td>\n",
       "<tr><td>usability/read-only/main</td>\n",
       "<tr><td>usability/search-replace/main</td>\n",
       "<tr><td>config-extensions</td>\n",
       "<tr><td>usability/python-markdown/main</td>\n",
       "\n",
       "</table>\n"
      ],
      "text/plain": [
       "<IPython.core.display.HTML object>"
      ]
     },
     "execution_count": 10,
     "metadata": {},
     "output_type": "execute_result"
    }
   ],
   "source": [
    "from IPython.html.services.config import ConfigManager\n",
    "from IPython.display import HTML\n",
    "ip = get_ipython()\n",
    "cm = ConfigManager(parent=ip, profile_dir=ip.profile_dir.location)\n",
    "extensions =cm.get('notebook')\n",
    "table = \"\"\n",
    "for ext in extensions['load_extensions']:\n",
    "    table += \"<tr><td>%s</td>\\n\" % (ext)\n",
    "\n",
    "top = \"\"\"\n",
    "<table border=\"1\">\n",
    "  <tr>\n",
    "    <th>Extension name</th>\n",
    "  </tr>\n",
    "\"\"\"\n",
    "bottom = \"\"\"\n",
    "</table>\n",
    "\"\"\"\n",
    "HTML(top + table + bottom)"
   ]
  },
  {
   "cell_type": "markdown",
   "metadata": {},
   "source": [
    "To enable or disable any extensions, find where the \\*.js file is located in the *~/.local/share/jupyter/nbextensions/&lt;path_to_extension&gt;* and type in the following command in the terminal:\n",
    "\n",
    "_Template:_\n",
    "    \n",
    "    jupyter nbextension enable <path_to_extension>\n",
    "    \n",
    "    jupyter nbextension disable <path_to_extension>\n",
    "\n",
    "_Example: _\n",
    "    \n",
    "    jupyter nbextension enable usability/runtools/main\n",
    "    \n",
    "    jupyter nbextension disable usability/runtools/main"
   ]
  },
  {
   "cell_type": "markdown",
   "metadata": {},
   "source": [
    "# Testing IPython 3.x Extensions"
   ]
  },
  {
   "cell_type": "code",
   "execution_count": 1,
   "metadata": {
    "code_folding": [],
    "collapsed": false,
    "run_control": {
     "marked": false,
     "read_only": false
    },
    "scrolled": false,
    "selected": true
   },
   "outputs": [
    {
     "name": "stdout",
     "output_type": "stream",
     "text": [
      "how does code folding work\n",
      "\n",
      "\n"
     ]
    }
   ],
   "source": [
    "# Test some code\n",
    "print 'how does code folding work'\n",
    "print '\\n'\n",
    "a = 5.3"
   ]
  },
  {
   "cell_type": "markdown",
   "metadata": {
    "selected": true,
    "variables": {
     "a": "5.3"
    }
   },
   "source": [
    "b = {{a}}"
   ]
  },
  {
   "cell_type": "code",
   "execution_count": 20,
   "metadata": {
    "collapsed": false,
    "run_control": {
     "read_only": false
    }
   },
   "outputs": [
    {
     "name": "stdout",
     "output_type": "stream",
     "text": [
      "i is large\n"
     ]
    }
   ],
   "source": [
    "from IPython.display import Latex\n",
    "b = Latex(r'$\\rho_{tau}$')\n",
    "b\n",
    "\n",
    "def printSomething():\n",
    "    print \"Something\"\n",
    "    return\n",
    "\n",
    "i = 5\n",
    "if i < 0:\n",
    "    print \"i is small\"\n",
    "else:\n",
    "    print \"i is large\""
   ]
  },
  {
   "cell_type": "markdown",
   "metadata": {
    "variables": {
     "b": "$\\rho_{tau}$"
    }
   },
   "source": [
    "b = {{b}}"
   ]
  },
  {
   "cell_type": "code",
   "execution_count": 21,
   "metadata": {
    "collapsed": false,
    "run_control": {
     "read_only": false
    }
   },
   "outputs": [
    {
     "name": "stdout",
     "output_type": "stream",
     "text": [
      "/home/noza/.ipython\n"
     ]
    }
   ],
   "source": [
    "import IPython\n",
    "IPython.html.nbextensions.check_nbextension('/')\n",
    "\n",
    "ip=IPython.get_ipython()\n",
    "print ip.ipython_dir"
   ]
  },
  {
   "cell_type": "code",
   "execution_count": 22,
   "metadata": {
    "collapsed": false,
    "run_control": {
     "read_only": false
    }
   },
   "outputs": [
    {
     "name": "stdout",
     "output_type": "stream",
     "text": [
      "/home/noza/.ipython/profile_default\n"
     ]
    }
   ],
   "source": [
    "from IPython.html.services.config import ConfigManager\n",
    "from IPython.display import HTML\n",
    "\n",
    "ip = get_ipython()\n",
    "print ip.profile_dir.location\n",
    "cm = ConfigManager(parent=ip, profile_dir=ip.profile_dir.location)"
   ]
  },
  {
   "cell_type": "markdown",
   "metadata": {},
   "source": [
    "Use these commands below to disable the various extensions"
   ]
  },
  {
   "cell_type": "code",
   "execution_count": 23,
   "metadata": {
    "collapsed": false,
    "run_control": {
     "read_only": false
    }
   },
   "outputs": [
    {
     "data": {
      "text/plain": [
       "{}"
      ]
     },
     "execution_count": 23,
     "metadata": {},
     "output_type": "execute_result"
    }
   ],
   "source": [
    "cm.update('notebook', {\"load_extensions\": {\"IPython-notebook-extensions-3.x/usability/runtools/main\": None}})\n",
    "cm.update('notebook', {\"load_extensions\": {\"IPython-notebook-extensions-3.x/usability/codefolding/main\": None}})\n",
    "cm.update('notebook', {\"load_extensions\": {\"IPython-notebook-extensions-3.x/usability/python-markdown/main\": None}})\n",
    "cm.update('notebook', {\"load_extensions\": {\"IPython-notebook-extensions-3.x/usability/read-only\": None}})"
   ]
  },
  {
   "cell_type": "markdown",
   "metadata": {},
   "source": [
    "Use these commands below to enable the various extensions"
   ]
  },
  {
   "cell_type": "code",
   "execution_count": 24,
   "metadata": {
    "collapsed": false,
    "run_control": {
     "read_only": false
    }
   },
   "outputs": [
    {
     "data": {
      "text/plain": [
       "{u'load_extensions': {u'IPython-notebook-extensions-3.x/usability/codefolding/main': True,\n",
       "  u'IPython-notebook-extensions-3.x/usability/python-markdown/main': True,\n",
       "  'IPython-notebook-extensions-3.x/usability/read-only': True,\n",
       "  u'IPython-notebook-extensions-3.x/usability/runtools/main': True}}"
      ]
     },
     "execution_count": 24,
     "metadata": {},
     "output_type": "execute_result"
    }
   ],
   "source": [
    "cm.update('notebook', {\"load_extensions\": {\"IPython-notebook-extensions-3.x/usability/runtools/main\": True}})\n",
    "cm.update('notebook', {\"load_extensions\": {\"IPython-notebook-extensions-3.x/usability/codefolding/main\": True}})\n",
    "cm.update('notebook', {\"load_extensions\": {\"IPython-notebook-extensions-3.x/usability/python-markdown/main\": True}})\n",
    "cm.update('notebook', {\"load_extensions\": {\"IPython-notebook-extensions-3.x/usability/read-only\": True}})"
   ]
  },
  {
   "cell_type": "markdown",
   "metadata": {},
   "source": [
    "Use this to view what extensions are currently installed"
   ]
  },
  {
   "cell_type": "code",
   "execution_count": 25,
   "metadata": {
    "collapsed": false,
    "run_control": {
     "read_only": false
    }
   },
   "outputs": [
    {
     "name": "stdout",
     "output_type": "stream",
     "text": [
      "{u'load_extensions': {u'IPython-notebook-extensions-3.x/usability/runtools/main': True, u'IPython-notebook-extensions-3.x/usability/codefolding/main': True, u'IPython-notebook-extensions-3.x/usability/python-markdown/main': True, u'IPython-notebook-extensions-3.x/usability/read-only': True}}\n",
      "IPython-notebook-extensions-3.x/usability/runtools/main\n",
      "IPython-notebook-extensions-3.x/usability/codefolding/main\n",
      "IPython-notebook-extensions-3.x/usability/python-markdown/main\n",
      "IPython-notebook-extensions-3.x/usability/read-only\n"
     ]
    }
   ],
   "source": [
    "extensions = cm.get('notebook')\n",
    "\n",
    "print extensions\n",
    "if 'load_extensions' in extensions.keys():\n",
    "    for ext in extensions['load_extensions']:\n",
    "        print ext\n",
    "else:\n",
    "    print \"Extensions doesn't have 'load_extensions' field\""
   ]
  },
  {
   "cell_type": "code",
   "execution_count": null,
   "metadata": {
    "collapsed": true,
    "run_control": {
     "read_only": false
    }
   },
   "outputs": [],
   "source": []
  }
 ],
 "metadata": {
  "hide_input": false,
  "kernelspec": {
   "display_name": "Python 2",
   "language": "python",
   "name": "python2"
  },
  "language_info": {
   "codemirror_mode": {
    "name": "ipython",
    "version": 2
   },
   "file_extension": ".py",
   "mimetype": "text/x-python",
   "name": "python",
   "nbconvert_exporter": "python",
   "pygments_lexer": "ipython2",
   "version": "2.7.10"
  },
  "latex_envs": {
   "bibliofile": "biblio.bib",
   "cite_by": "apalike",
   "current_citInitial": 1,
   "eqLabelWithNumbers": true,
   "eqNumInitial": 0
  }
 },
 "nbformat": 4,
 "nbformat_minor": 0
}
