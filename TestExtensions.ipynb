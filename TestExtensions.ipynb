{
 "cells": [
  {
   "cell_type": "code",
   "execution_count": 1,
   "metadata": {
    "code_folding": [],
    "collapsed": false,
    "run_control": {
     "marked": false,
     "read_only": false
    },
    "scrolled": false,
    "selected": true
   },
   "outputs": [
    {
     "name": "stdout",
     "output_type": "stream",
     "text": [
      "how does code folding work\n",
      "\n",
      "\n"
     ]
    }
   ],
   "source": [
    "# Test some code\n",
    "print 'how does code folding work'\n",
    "print '\\n'\n",
    "a = 5.3"
   ]
  },
  {
   "cell_type": "markdown",
   "metadata": {
    "selected": true,
    "variables": {
     "a": "5.3"
    }
   },
   "source": [
    "a = {{a}}"
   ]
  },
  {
   "cell_type": "code",
   "execution_count": 9,
   "metadata": {
    "collapsed": false,
    "run_control": {
     "read_only": false
    }
   },
   "outputs": [
    {
     "name": "stdout",
     "output_type": "stream",
     "text": [
      "i is large\n"
     ]
    }
   ],
   "source": [
    "from IPython.display import Latex\n",
    "b = Latex(r'$\\rho_{qua}$')\n",
    "b\n",
    "\n",
    "def printSomething():\n",
    "    print \"Something\"\n",
    "    return\n",
    "\n",
    "i = 5\n",
    "if i < 0:\n",
    "    print \"i is small\"\n",
    "else:\n",
    "    print \"i is large\""
   ]
  },
  {
   "cell_type": "markdown",
   "metadata": {
    "variables": {
     "b": "$\\rho_{qua}$"
    }
   },
   "source": [
    "b = {{b}}"
   ]
  }
 ],
 "metadata": {
  "kernelspec": {
   "display_name": "Python 2",
   "language": "python",
   "name": "python2"
  },
  "language_info": {
   "codemirror_mode": {
    "name": "ipython",
    "version": 2
   },
   "file_extension": ".py",
   "mimetype": "text/x-python",
   "name": "python",
   "nbconvert_exporter": "python",
   "pygments_lexer": "ipython2",
   "version": "2.7.3"
  }
 },
 "nbformat": 4,
 "nbformat_minor": 0
}
