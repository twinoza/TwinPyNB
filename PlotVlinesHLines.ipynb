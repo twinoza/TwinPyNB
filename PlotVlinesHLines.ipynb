{
 "metadata": {
  "name": "PlotVlinesHLines"
 }, 
 "nbformat": 2, 
 "worksheets": [
  {
   "cells": [
    {
     "cell_type": "code", 
     "collapsed": false, 
     "input": [
      "\"\"\"", 
      "Small demonstration of the hlines and vlines plots.", 
      "\"\"\"", 
      "", 
      "from matplotlib import pyplot as plt", 
      "from numpy import sin, exp,  absolute, pi, arange", 
      "from numpy.random import normal", 
      "", 
      "", 
      "def f(t):", 
      "    s1 = sin(2 * pi * t)", 
      "    e1 = exp(-t)", 
      "    return absolute((s1 * e1)) + .05", 
      "", 
      "", 
      "t = arange(0.0, 5.0, 0.1)", 
      "s = f(t)", 
      "nse = normal(0.0, 0.1, t.shape) * s", 
      "", 
      "fig = plt.figure(figsize=(12, 6))", 
      "vax = fig.add_subplot(121)", 
      "hax = fig.add_subplot(122)", 
      "", 
      "vax.plot(t, s + nse, 'b^')", 
      "vax.vlines(t, [0], s)", 
      "vax.set_xlabel('time (s)')", 
      "vax.set_title('Vertical lines demo')", 
      "", 
      "hax.plot(s + nse, t, 'b^')", 
      "xmin,xmax,ymin,ymax = axis()", 
      "print xmin, xmax, ymin, ymax", 
      "hax.hlines(median(t), xmin, xmax,'g')", 
      "hax.hlines(t, [0.5], s, lw=2)", 
      "hax.vlines(median(s), ymin, ymax,'r')", 
      "xlim((xmin,xmax))", 
      "ylim((ymin,ymax))", 
      "", 
      "", 
      "hax.set_xlabel('time (s)')", 
      "hax.set_title('Horizontal lines demo')", 
      "", 
      "plt.show()"
     ], 
     "language": "python", 
     "outputs": [
      {
       "output_type": "stream", 
       "stream": "stdout", 
       "text": [
        "0.0 0.9 0.0 5.0"
       ]
      }
     ], 
     "prompt_number": 1
    }, 
    {
     "cell_type": "code", 
     "collapsed": true, 
     "input": [
      "|"
     ], 
     "language": "python", 
     "outputs": []
    }
   ]
  }
 ]
}