{
 "cells": [
  {
   "cell_type": "code",
   "execution_count": 8,
   "metadata": {
    "collapsed": false
   },
   "outputs": [
    {
     "name": "stdout",
     "output_type": "stream",
     "text": [
      "0.0 0.9 0.0 5.0\n"
     ]
    }
   ],
   "source": [
    "\"\"\"\n",
    "Small demonstration of the hlines and vlines plots.\n",
    "\"\"\"\n",
    "\n",
    "from matplotlib import pyplot as plt\n",
    "from numpy import sin, exp,  absolute, pi, arange, median\n",
    "from numpy.random import normal\n",
    "\n",
    "\n",
    "def f(t):\n",
    "    s1 = sin(2 * pi * t)\n",
    "    e1 = exp(-t)\n",
    "    return absolute((s1 * e1)) + .05\n",
    "\n",
    "\n",
    "t = arange(0.0, 5.0, 0.1)\n",
    "s = f(t)\n",
    "nse = normal(0.0, 0.1, t.shape) * s\n",
    "\n",
    "fig = plt.figure(figsize=(12, 6))\n",
    "vax = fig.add_subplot(121)\n",
    "hax = fig.add_subplot(122)\n",
    "\n",
    "vax.plot(t, s + nse, 'b^')\n",
    "vax.vlines(t, [0], s)\n",
    "vax.set_xlabel('time (s)')\n",
    "vax.set_title('Vertical lines demo')\n",
    "\n",
    "hax.plot(s + nse, t, 'b^')\n",
    "xmin,xmax,ymin,ymax = hax.axis()\n",
    "print xmin, xmax, ymin, ymax\n",
    "hax.hlines(median(t), xmin, xmax,'g')\n",
    "hax.hlines(t, [0.5], s, lw=2)\n",
    "hax.vlines(median(s), ymin, ymax,'r')\n",
    "plt.xlim((xmin,xmax))\n",
    "plt.ylim((ymin,ymax))\n",
    "\n",
    "\n",
    "hax.set_xlabel('time (s)')\n",
    "hax.set_title('Horizontal lines demo')\n",
    "\n",
    "plt.show()"
   ]
  },
  {
   "cell_type": "code",
   "execution_count": null,
   "metadata": {
    "collapsed": true
   },
   "outputs": [],
   "source": [
    "|"
   ]
  }
 ],
 "metadata": {
  "kernelspec": {
   "display_name": "Python 2",
   "language": "python",
   "name": "python2"
  },
  "language_info": {
   "codemirror_mode": {
    "name": "ipython",
    "version": 2
   },
   "file_extension": ".py",
   "mimetype": "text/x-python",
   "name": "python",
   "nbconvert_exporter": "python",
   "pygments_lexer": "ipython2",
   "version": "2.7.3"
  }
 },
 "nbformat": 4,
 "nbformat_minor": 0
}
