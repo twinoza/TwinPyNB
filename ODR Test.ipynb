{
 "metadata": {
  "name": "",
  "signature": "sha256:af920d2f2d32f30c73caea52cfd8a9246cc4b92045535c39a8a6385205f9d521"
 },
 "nbformat": 3,
 "nbformat_minor": 0,
 "worksheets": [
  {
   "cells": [
    {
     "cell_type": "code",
     "collapsed": false,
     "input": [
      "%pylab inline"
     ],
     "language": "python",
     "metadata": {},
     "outputs": [
      {
       "output_type": "stream",
       "stream": "stdout",
       "text": [
        "Populating the interactive namespace from numpy and matplotlib\n"
       ]
      }
     ],
     "prompt_number": 3
    },
    {
     "cell_type": "code",
     "collapsed": false,
     "input": [
      "from scipy.odr import *\n",
      "from scipy.optimize import *"
     ],
     "language": "python",
     "metadata": {},
     "outputs": [],
     "prompt_number": 150
    },
    {
     "cell_type": "heading",
     "level": 3,
     "metadata": {},
     "source": [
      "Define basic functions to test ODR on a known linear model"
     ]
    },
    {
     "cell_type": "markdown",
     "metadata": {},
     "source": [
      "These functions are going to be used to test the ODR compared to the Least Squares algorithms on a known linear model"
     ]
    },
    {
     "cell_type": "code",
     "collapsed": false,
     "input": [
      "def simpleLine(beta,x):\n",
      "    m, b = beta[0],beta[1]\n",
      "    xVals = x\n",
      "    return m*x + b"
     ],
     "language": "python",
     "metadata": {},
     "outputs": [],
     "prompt_number": 55
    },
    {
     "cell_type": "code",
     "collapsed": false,
     "input": [
      "def simpleLineErr(beta, yVals, xVals):\n",
      "    m, b = beta\n",
      "    return yVals - (m*xVals + b)"
     ],
     "language": "python",
     "metadata": {},
     "outputs": [],
     "prompt_number": 173
    },
    {
     "cell_type": "code",
     "collapsed": false,
     "input": [
      "def plotData(X,Y):\n",
      "    p = plot(X,Y,'r.')\n",
      "    title('Test ODR')\n",
      "    xlabel('x')\n",
      "    ylabel('y')\n",
      "    xlim(min(X)-1,max(X)+1)\n",
      "    ylim(min(Y)-1,max(Y)+1)\n",
      "    return p"
     ],
     "language": "python",
     "metadata": {},
     "outputs": [],
     "prompt_number": 225
    },
    {
     "cell_type": "heading",
     "level": 3,
     "metadata": {},
     "source": [
      "Create data"
     ]
    },
    {
     "cell_type": "markdown",
     "metadata": {},
     "source": [
      "Create a set of data points that I know will result in an ODR calculation with known quantities"
     ]
    },
    {
     "cell_type": "code",
     "collapsed": false,
     "input": [
      "#X = [1,0,1,2]\n",
      "#Y = [0,1,2,1]\n",
      "#X = array([0.,1,2,0,1,2])\n",
      "#Y = array([0.,0,1,1,2,2])\n",
      "X = array([0.,2,5,5,8,10])\n",
      "Y = array([0.,1,6,4,9,10])\n",
      "X = array([0.,2,1,5,6,5,4,8,9,10])+10\n",
      "Y = array([0.,1,2,6,5,4,5,9,8,10])+10\n",
      "print \"X Vals:\", X, '\\n', \"Y Vals:\", Y\n",
      "\n",
      "plotData(X,Y)"
     ],
     "language": "python",
     "metadata": {},
     "outputs": [
      {
       "output_type": "stream",
       "stream": "stdout",
       "text": [
        "X Vals: [ 10.  12.  11.  15.  16.  15.  14.  18.  19.  20.] \n",
        "Y Vals: [ 10.  11.  12.  16.  15.  14.  15.  19.  18.  20.]\n"
       ]
      },
      {
       "metadata": {},
       "output_type": "pyout",
       "prompt_number": 269,
       "text": [
        "[<matplotlib.lines.Line2D at 0x7f0592fec090>]"
       ]
      },
      {
       "metadata": {},
       "output_type": "display_data",
       "png": "[encoded data removed]",
       "text": [
        "<matplotlib.figure.Figure at 0x7f0593246f50>"
       ]
      }
     ],
     "prompt_number": 269
    },
    {
     "cell_type": "heading",
     "level": 3,
     "metadata": {},
     "source": [
      "Run the regression algorithms"
     ]
    },
    {
     "cell_type": "markdown",
     "metadata": {},
     "source": [
      "Create and Run ODR"
     ]
    },
    {
     "cell_type": "code",
     "collapsed": false,
     "input": [
      "initM, initB = 0.5, 0.5\n",
      "mydata = Data(X,Y)\n",
      "model = Model(simpleLine)\n",
      "myodr = ODR(mydata,model,beta0=[initM, initB])\n",
      "myfit = myodr.run()"
     ],
     "language": "python",
     "metadata": {},
     "outputs": [],
     "prompt_number": 270
    },
    {
     "cell_type": "markdown",
     "metadata": {},
     "source": [
      "Run the least squares regression"
     ]
    },
    {
     "cell_type": "code",
     "collapsed": false,
     "input": [
      "popt, pcov, pinfodict,pmesg,pler = leastsq(simpleLineErr,(initM,initB),args=(Y, X),full_output=True)"
     ],
     "language": "python",
     "metadata": {},
     "outputs": [],
     "prompt_number": 271
    },
    {
     "cell_type": "heading",
     "level": 3,
     "metadata": {},
     "source": [
      "Plot the output of both of the regression algorithms"
     ]
    },
    {
     "cell_type": "markdown",
     "metadata": {},
     "source": [
      "Plot the initial guess as a dashed green line to show how the original estimate of the the beta parameters would have resulted.  In blue is the result of ODR.  In red is the result of Least Square Regression"
     ]
    },
    {
     "cell_type": "code",
     "collapsed": false,
     "input": [
      "thX = linspace(min(X)-1,max(X)+1,100)\n",
      "thY = simpleLine(myfit.beta,thX)\n",
      "thGuess = simpleLine([initM, initB],thX)\n",
      "thLS = simpleLine([popt[0], popt[1]],thX)"
     ],
     "language": "python",
     "metadata": {},
     "outputs": [],
     "prompt_number": 272
    },
    {
     "cell_type": "code",
     "collapsed": false,
     "input": [
      "plot(thX,thY,'b-')\n",
      "plot(thX,thLS,'r-')\n",
      "plot(thX,thGuess,'g--')\n",
      "plotData(X,Y)"
     ],
     "language": "python",
     "metadata": {},
     "outputs": [
      {
       "metadata": {},
       "output_type": "pyout",
       "prompt_number": 273,
       "text": [
        "[<matplotlib.lines.Line2D at 0x7f0592f98d90>]"
       ]
      },
      {
       "metadata": {},
       "output_type": "display_data",
       "png": "[encoded data removed]",
       "text": [
        "<matplotlib.figure.Figure at 0x7f05932276d0>"
       ]
      }
     ],
     "prompt_number": 273
    },
    {
     "cell_type": "heading",
     "level": 3,
     "metadata": {},
     "source": [
      "Print the output of the various regression algorithms"
     ]
    },
    {
     "cell_type": "markdown",
     "metadata": {},
     "source": [
      "Print the output of least squares regression"
     ]
    },
    {
     "cell_type": "code",
     "collapsed": false,
     "input": [
      "print \"LS_Slope:\\t\", popt[0]\n",
      "print \"LS_Y-Int:\\t\", popt[1], \"\\n\"\n",
      "e = simpleLineErr(popt,Y,X)\n",
      "se = e**2\n",
      "sse = sum(se)\n",
      "print \"Error:\\t\\t\", e\n",
      "print \"Sq Err: \\t\", se\n",
      "print \"Res. Var:\\t\", sse/(len(e)-2)\n",
      "# Calculate the Relative Standard Deviation as the Standard Deviation divided by the mean of the samples\n",
      "sd = sqrt(sse/(len(e)-2))\n",
      "mu_samples = mean(Y)\n",
      "ls_rsd = sd/mu_samples\n",
      "print \"Rel. Std. Dev:\\t\", ls_rsd\n",
      "print \"\"\n",
      "print \"Sum[e^2]:\\t\", sse"
     ],
     "language": "python",
     "metadata": {},
     "outputs": [
      {
       "output_type": "stream",
       "stream": "stdout",
       "text": [
        "LS_Slope:\t0.960784313726\n",
        "LS_Y-Int:\t0.392156862745 \n",
        "\n",
        "Error:\t\t[-0.39215686 -2.23529412  1.68627451  2.         -1.92156863 -2.\n",
        "  1.92156863  2.23529412 -1.68627451  0.39215686]\n",
        "Sq Err: \t[ 0.153787    4.99653979  2.84352172  4.          3.69242599  4.\n",
        "  3.69242599  4.99653979  2.84352172  0.153787  ]\n",
        "Res. Var:\t3.92156862745\n",
        "Rel. Std. Dev:\t0.198029508595\n",
        "\n",
        "Sum[e^2]:\t31.3725490196\n"
       ]
      }
     ],
     "prompt_number": 267
    },
    {
     "cell_type": "markdown",
     "metadata": {},
     "source": [
      "Print the output parameters that are found using the ODR.  In the process of doing this, also print out the calculated values of the residual variance, the sum of squared error, the sum of the squared delta (error in the x-axis) values, and the sum of the squared epsilon (error in the y-axis) values"
     ]
    },
    {
     "cell_type": "code",
     "collapsed": false,
     "input": [
      "print \"Slope:\\t\\t\", myfit.beta[0]\n",
      "print \"Y-Int:\\t\\t\", myfit.beta[1], \"\\n\"\n",
      "\n",
      "print \"Delta:\\t\\t\", myfit.delta\n",
      "print \"Eps:\\t\\t\", myfit.eps\n",
      "print \"X+delta\\t:\", myfit.xplus\n",
      "print \"Y:\\t\\t\", myfit.y\n",
      "print \"Calc Y:\\t\\t\", simpleLine(myfit.beta,X+myfit.delta), \"\\n\"\n",
      "\n",
      "print \"Orthogonal Error Sq:\\t\", myfit.delta**2+myfit.eps**2\n",
      "print \"Orthogonal Error:\\t\", sqrt(myfit.delta**2+myfit.eps**2), \"\\n\"\n",
      "\n",
      "print \"Res. Var:\\t\",myfit.res_var\n",
      "print \"Calc Res. Var:\\t\",sum(myfit.delta**2+myfit.eps**2)/(len(myfit.delta)-2)\n",
      "rsd = sqrt(myfit.res_var)/mean(Y)\n",
      "print \"Rel. Std. Dev:\\t\", rsd, \"\\n\"\n",
      "\n",
      "print \"Sum[e^2]:\\t\", myfit.sum_square\n",
      "print \"Calc_Sum[e^2]:\\t\", sum(myfit.delta**2+myfit.eps**2)\n",
      "print \"Sum[delta^2]:\\t\\t\", myfit.sum_square_delta\n",
      "print \"Calc_Sum[delta^2]:\\t\", sum(myfit.delta**2)\n",
      "print \"Sum[eps^2]:\\t\\t\", myfit.sum_square_eps\n",
      "print \"Calc_Sum[eps^2]:\\t\", sum(myfit.eps**2)\n",
      "print \"Rel Error:\\t\",myfit.rel_error"
     ],
     "language": "python",
     "metadata": {},
     "outputs": [
      {
       "output_type": "stream",
       "stream": "stdout",
       "text": [
        "Slope:\t\t0.999996626005\n",
        "Y-Int:\t\t5.06471549716e-05 \n",
        "\n",
        "Delta:\t\t[ -8.65572953e-06  -5.00002573e-01   4.99990322e-01   4.99997070e-01\n",
        "  -4.99995825e-01  -4.99997512e-01   4.99995383e-01   5.00002807e-01\n",
        "  -4.99990088e-01   8.88975197e-06]\n",
        "Eps:\t\t[  8.25150888e-06   5.00009273e-01  -4.99997832e-01  -5.00004580e-01\n",
        "   5.00002525e-01   5.00004212e-01  -5.00002893e-01  -5.00008965e-01\n",
        "   4.99998140e-01  -7.94301458e-06]\n",
        "X+delta\t: [  9.99999134  11.49999743  11.49999032  15.49999707  15.50000418\n",
        "  14.50000249  14.49999538  18.50000281  18.50000991  20.00000889]\n",
        "Y:\t\t[ 10.00000825  11.50000927  11.50000217  15.49999542  15.50000253\n",
        "  14.50000421  14.49999711  18.49999104  18.49999814  19.99999206]\n",
        "Calc Y:\t\t[ 10.00000825  11.50000927  11.50000217  15.49999542  15.50000253\n",
        "  14.50000421  14.49999711  18.49999104  18.49999814  19.99999206] \n",
        "\n",
        "Orthogonal Error Sq:\t[  1.43009053e-10   5.00011846e-01   4.99988154e-01   5.00001650e-01\n",
        "   4.99998350e-01   5.00001724e-01   4.99998276e-01   5.00011772e-01\n",
        "   4.99988228e-01   1.42119171e-10]\n",
        "Orthogonal Error:\t[  1.19586392e-05   7.07115158e-01   7.07098405e-01   7.07107948e-01\n",
        "   7.07105615e-01   7.07108000e-01   7.07105562e-01   7.07115105e-01\n",
        "   7.07098457e-01   1.19213745e-05] \n",
        "\n",
        "Res. Var:\t0.500000000085\n",
        "Calc Res. Var:\t0.500000000085\n",
        "Rel. Std. Dev:\t0.0471404520831 \n",
        "\n",
        "Sum[e^2]:\t4.00000000068\n",
        "Calc_Sum[e^2]:\t4.00000000068\n",
        "Sum[delta^2]:\t\t1.99997158018\n",
        "Calc_Sum[delta^2]:\t1.99997158018\n",
        "Sum[eps^2]:\t\t2.0000284205\n",
        "Calc_Sum[eps^2]:\t2.0000284205\n",
        "Rel Error:\t3.10055011968e-14\n"
       ]
      }
     ],
     "prompt_number": 274
    },
    {
     "cell_type": "code",
     "collapsed": false,
     "input": [],
     "language": "python",
     "metadata": {},
     "outputs": []
    },
    {
     "cell_type": "heading",
     "level": 1,
     "metadata": {},
     "source": [
      "Scratch Pad"
     ]
    },
    {
     "cell_type": "markdown",
     "metadata": {},
     "source": [
      "This section below here is for me to play around and see how things work and/or what things are without needing to document it in my code above"
     ]
    },
    {
     "cell_type": "markdown",
     "metadata": {},
     "source": [
      "I'm playing around with what the \"work\" array is about.  It appears that it's an array of output values indexed by the dictionary \"work_ind\".  This array of output values can help debug more information if I am able to decode what all of the key values mean"
     ]
    },
    {
     "cell_type": "code",
     "collapsed": false,
     "input": [
      "print len(myfit.work), myfit.work_ind\n",
      "print myfit.stopreason\n",
      "print myfit.work[6:12]\n",
      "print myfit.work[myfit.work_ind['eps']:myfit.work_ind['xplus']]"
     ],
     "language": "python",
     "metadata": {},
     "outputs": [
      {
       "output_type": "stream",
       "stream": "stdout",
       "text": [
        "152 {'tau': 37, 'rnors': 41, 'qraux': 61, 'prers': 42, 'wssep': 33, 'diff': 84, 'rcond': 34, 'delts': 87, 'wrk7': 146, 'fjacd': 112, 'tt': 105, 'partl': 43, 's': 55, 'fjacb': 71, 'rvar': 30, 'wrk6': 134, 'u': 63, 'sstol': 44, 'wrk5': 133, 'wrk2': 124, 'wrk3': 130, 'wrk1': 118, 'fs': 65, 'wssde': 32, 'taufc': 45, 'pnorm': 40, 'olmav': 36, 'we1': 83, 'delta': 0, 'deltn': 93, 'alpha': 38, 'ssf': 59, 'omega': 111, 'wrk4': 132, 'fn': 18, 'betac': 49, 'betao': 47, 'betan': 53, 'eps': 6, 'xplus': 12, 'ss': 57, 'wss': 31, 'eta': 35, 'betas': 51, 't': 99, 'actrs': 39, 'apsma': 46, 'sd': 26}\n",
        "['Sum of squares convergence']\n",
        "[  5.94737160e-05   5.00060432e-01   5.00000981e-01  -5.00000967e-01\n",
        "  -5.00060450e-01  -5.94679904e-05]\n",
        "[  5.94737160e-05   5.00060432e-01   5.00000981e-01  -5.00000967e-01\n",
        "  -5.00060450e-01  -5.94679904e-05]\n"
       ]
      }
     ],
     "prompt_number": 127
    }
   ],
   "metadata": {}
  }
 ]
}