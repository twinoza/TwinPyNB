{
 "metadata": {
  "name": "",
  "signature": "sha256:12cde64fe0d4e1db7c16f64ef6e06cd98a265aec3b7b014db983baaa16eff120"
 },
 "nbformat": 3,
 "nbformat_minor": 0,
 "worksheets": [
  {
   "cells": [
    {
     "cell_type": "code",
     "collapsed": false,
     "input": [
      "%pylab inline"
     ],
     "language": "python",
     "metadata": {},
     "outputs": [
      {
       "output_type": "stream",
       "stream": "stdout",
       "text": [
        "Populating the interactive namespace from numpy and matplotlib\n"
       ]
      }
     ],
     "prompt_number": 98
    },
    {
     "cell_type": "code",
     "collapsed": false,
     "input": [
      "from scipy.odr import *\n",
      "from scipy.optimize import *\n",
      "from IPython.display import display, Math, Latex"
     ],
     "language": "python",
     "metadata": {},
     "outputs": [],
     "prompt_number": 99
    },
    {
     "cell_type": "heading",
     "level": 3,
     "metadata": {},
     "source": [
      "Define basic functions to test ODR on a known linear model"
     ]
    },
    {
     "cell_type": "markdown",
     "metadata": {},
     "source": [
      "These functions are going to be used to test the ODR compared to the Least Squares algorithms on a known linear model"
     ]
    },
    {
     "cell_type": "code",
     "collapsed": false,
     "input": [
      "def simpleLine(beta,x):\n",
      "    m, b = beta[0],beta[1]\n",
      "    xVals = x\n",
      "    return m*x + b"
     ],
     "language": "python",
     "metadata": {},
     "outputs": [],
     "prompt_number": 100
    },
    {
     "cell_type": "code",
     "collapsed": false,
     "input": [
      "def simpleLineErr(beta, yVals, xVals):\n",
      "    m, b = beta\n",
      "    return yVals - (m*xVals + b)"
     ],
     "language": "python",
     "metadata": {},
     "outputs": [],
     "prompt_number": 101
    },
    {
     "cell_type": "code",
     "collapsed": false,
     "input": [
      "def plotData(X,Y):\n",
      "    p = plot(X,Y,'r.')\n",
      "    title('Test ODR')\n",
      "    xlabel('x')\n",
      "    ylabel('y')\n",
      "    xlim(min(X)-1,max(X)+1)\n",
      "    ylim(min(Y)-1,max(Y)+1)\n",
      "    return p"
     ],
     "language": "python",
     "metadata": {},
     "outputs": [],
     "prompt_number": 102
    },
    {
     "cell_type": "heading",
     "level": 3,
     "metadata": {},
     "source": [
      "Create data"
     ]
    },
    {
     "cell_type": "markdown",
     "metadata": {},
     "source": [
      "Create a set of data points that I know will result in an ODR calculation with known quantities"
     ]
    },
    {
     "cell_type": "code",
     "collapsed": false,
     "input": [
      "#X = [1,0,1,2]\n",
      "#Y = [0,1,2,1]\n",
      "#X = array([0.,1,2,0,1,2])\n",
      "#Y = array([0.,0,1,1,2,2])\n",
      "X = array([0.,2,5,5,8,10])\n",
      "Y = array([0.,1,6,4,9,10])\n",
      "X = array([0.,2,1,5,6,5,4,8,9,10])\n",
      "Y = array([0.,1,2,6,5,4,5,9,8,10])\n",
      "print \"X Vals:\", X, '\\n', \"Y Vals:\", Y\n",
      "\n",
      "plotData(X,Y)"
     ],
     "language": "python",
     "metadata": {},
     "outputs": [
      {
       "output_type": "stream",
       "stream": "stdout",
       "text": [
        "X Vals: [  0.   2.   1.   5.   6.   5.   4.   8.   9.  10.] \n",
        "Y Vals: [  0.   1.   2.   6.   5.   4.   5.   9.   8.  10.]\n"
       ]
      },
      {
       "metadata": {},
       "output_type": "pyout",
       "prompt_number": 103,
       "text": [
        "[<matplotlib.lines.Line2D at 0x7f68bd59a890>]"
       ]
      },
      {
       "metadata": {},
       "output_type": "display_data",
       "png": "[encoded data removed]",
       "text": [
        "<matplotlib.figure.Figure at 0x7f68bd793890>"
       ]
      }
     ],
     "prompt_number": 103
    },
    {
     "cell_type": "heading",
     "level": 3,
     "metadata": {},
     "source": [
      "Run the regression algorithms"
     ]
    },
    {
     "cell_type": "markdown",
     "metadata": {},
     "source": [
      "Create and Run ODR"
     ]
    },
    {
     "cell_type": "code",
     "collapsed": false,
     "input": [
      "initM, initB = 1., 0.\n",
      "mydata = Data(X,Y)\n",
      "model = Model(simpleLine)\n",
      "myodr = ODR(mydata,model,beta0=[initM, initB])\n",
      "myfit = myodr.run()"
     ],
     "language": "python",
     "metadata": {},
     "outputs": [],
     "prompt_number": 90
    },
    {
     "cell_type": "markdown",
     "metadata": {},
     "source": [
      "Run the least squares regression"
     ]
    },
    {
     "cell_type": "code",
     "collapsed": false,
     "input": [
      "popt, pcov, pinfodict,pmesg,pler = leastsq(simpleLineErr,(initM,initB),args=(Y, X),full_output=True)"
     ],
     "language": "python",
     "metadata": {},
     "outputs": [],
     "prompt_number": 91
    },
    {
     "cell_type": "heading",
     "level": 3,
     "metadata": {},
     "source": [
      "Plot the output of both of the regression algorithms"
     ]
    },
    {
     "cell_type": "markdown",
     "metadata": {},
     "source": [
      "Plot the initial guess as a dashed green line to show how the original estimate of the the beta parameters would have resulted.  In blue is the result of ODR.  In red is the result of Least Square Regression"
     ]
    },
    {
     "cell_type": "code",
     "collapsed": false,
     "input": [
      "thX = linspace(min(X)-1,max(X)+1,100)\n",
      "thY = simpleLine(myfit.beta,thX)\n",
      "thGuess = simpleLine([initM, initB],thX)\n",
      "thLS = simpleLine([popt[0], popt[1]],thX)"
     ],
     "language": "python",
     "metadata": {},
     "outputs": [],
     "prompt_number": 92
    },
    {
     "cell_type": "code",
     "collapsed": false,
     "input": [
      "plot(thX,thY,'b-')\n",
      "plot(thX,thLS,'r-')\n",
      "plot(thX,thGuess,'g--')\n",
      "plotData(X,Y)"
     ],
     "language": "python",
     "metadata": {},
     "outputs": [
      {
       "metadata": {},
       "output_type": "pyout",
       "prompt_number": 93,
       "text": [
        "[<matplotlib.lines.Line2D at 0x7f68bd6534d0>]"
       ]
      },
      {
       "metadata": {},
       "output_type": "display_data",
       "png": "[encoded data removed]",
       "text": [
        "<matplotlib.figure.Figure at 0x7f68bd8332d0>"
       ]
      }
     ],
     "prompt_number": 93
    },
    {
     "cell_type": "heading",
     "level": 3,
     "metadata": {},
     "source": [
      "Print the output of the various regression algorithms"
     ]
    },
    {
     "cell_type": "markdown",
     "metadata": {},
     "source": [
      "Print the output of least squares regression"
     ]
    },
    {
     "cell_type": "code",
     "collapsed": false,
     "input": [
      "print \"LS_Slope:\\t\", popt[0]\n",
      "print \"LS_Y-Int:\\t\", popt[1], \"\\n\"\n",
      "e = simpleLineErr(popt,Y,X)\n",
      "se = e**2\n",
      "sse = sum(se)\n",
      "print \"Error:\\t\\t\", e\n",
      "print \"Sq Err: \\t\", se\n",
      "print \"Res. Var:\\t\", sse/(len(e)-2)\n",
      "# Calculate the Relative Standard Deviation as the Standard Deviation divided by the mean of the samples\n",
      "sd = sqrt(sse/(len(e)-2))\n",
      "mu_samples = mean(Y)\n",
      "ls_rsd = sd/mu_samples\n",
      "print \"Rel. Std. Dev:\\t\", ls_rsd\n",
      "print \"\"\n",
      "print \"Sum[e^2]:\\t\", sse"
     ],
     "language": "python",
     "metadata": {},
     "outputs": [
      {
       "output_type": "stream",
       "stream": "stdout",
       "text": [
        "LS_Slope:\t0.960784313725\n",
        "LS_Y-Int:\t0.196078431373 \n",
        "\n",
        "Error:\t\t[-0.19607843 -1.11764706  0.84313725  1.         -0.96078431 -1.\n",
        "  0.96078431  1.11764706 -0.84313725  0.19607843]\n",
        "Sq Err: \t[ 0.03844675  1.24913495  0.71088043  1.          0.9231065   1.          0.9231065\n",
        "  1.24913495  0.71088043  0.03844675]\n",
        "Res. Var:\t0.980392156863\n",
        "Rel. Std. Dev:\t0.198029508595\n",
        "\n",
        "Sum[e^2]:\t7.8431372549\n"
       ]
      }
     ],
     "prompt_number": 94
    },
    {
     "cell_type": "markdown",
     "metadata": {},
     "source": [
      "Print the output parameters that are found using the ODR.  In the process of doing this, also print out the calculated values of the residual variance, the sum of squared error, the sum of the squared delta (error in the x-axis) values, and the sum of the squared epsilon (error in the y-axis) values"
     ]
    },
    {
     "cell_type": "code",
     "collapsed": false,
     "input": [
      "print \"Slope:\\t\\t\", myfit.beta[0]\n",
      "print \"Y-Int:\\t\\t\", myfit.beta[1], \"\\n\"\n",
      "\n",
      "print \"Delta:\\t\\t\", myfit.delta\n",
      "print \"Eps:\\t\\t\", myfit.eps\n",
      "print \"X+delta\\t\\t:\", myfit.xplus\n",
      "print \"Calc X+delta\\t:\", X + myfit.delta\n",
      "print \"Y:\\t\\t\", myfit.y\n",
      "print \"Calc Y:\\t\\t\", simpleLine(myfit.beta,X+myfit.delta), \"\\n\"\n",
      "\n",
      "print \"Orthogonal Error Sq:\\t\", myfit.delta**2+myfit.eps**2\n",
      "print \"Orthogonal Error:\\t\", sqrt(myfit.delta**2+myfit.eps**2), \"\\n\"\n",
      "\n",
      "print \"Res. Var:\\t\",myfit.res_var\n",
      "print \"Calc Res. Var:\\t\",sum(myfit.delta**2+myfit.eps**2)/(len(myfit.delta)-2)\n",
      "\n",
      "rsd = sqrt(myfit.res_var)/sqrt(sum(myfit.y**2)/(len(myfit.y)-2))\n",
      "print \"Rel. Std. Dev:\\t\", rsd\n",
      "print \"Calc. Rel Error:\\t\", sqrt(myfit.sum_square/(len(myfit.delta)-2))/sqrt(sum(myfit.y**2)/(len(myfit.y)-2))\n",
      "print \"\"\n",
      "\n",
      "print \"Sum[e^2]:\\t\", myfit.sum_square\n",
      "print \"Calc_Sum[e^2]:\\t\", sum(myfit.delta**2+myfit.eps**2)\n",
      "print \"Sum[delta^2]:\\t\\t\", myfit.sum_square_delta\n",
      "print \"Calc_Sum[delta^2]:\\t\", sum(myfit.delta**2)\n",
      "print \"Sum[eps^2]:\\t\\t\", myfit.sum_square_eps\n",
      "print \"Calc_Sum[eps^2]:\\t\", sum(myfit.eps**2)\n",
      "print \"Rel Error:\\t\",myfit.rel_error"
     ],
     "language": "python",
     "metadata": {},
     "outputs": [
      {
       "output_type": "stream",
       "stream": "stdout",
       "text": [
        "Slope:\t\t0.999999365819\n",
        "Y-Int:\t\t3.26334957886e-06 \n",
        "\n",
        "Delta:\t\t[ -1.63136564e-06  -4.99997212e-01   4.99994757e-01   4.99996382e-01\n",
        "  -4.99995624e-01  -4.99995941e-01   4.99996065e-01   4.99996933e-01\n",
        "  -4.99995073e-01   1.37934894e-06]\n",
        "Eps:\t\t[  1.63198497e-06   5.00005100e-01  -5.00002931e-01  -5.00003843e-01\n",
        "   5.00004151e-01   5.00004468e-01  -5.00003526e-01  -5.00005194e-01\n",
        "   5.00002800e-01  -1.69911578e-06]\n",
        "X+delta\t\t: [ -1.63136564e-06   1.50000279e+00   1.49999476e+00   5.49999638e+00\n",
        "   5.50000438e+00   4.50000406e+00   4.49999606e+00   8.49999693e+00\n",
        "   8.50000493e+00   1.00000014e+01]\n",
        "Calc X+delta\t: [ -1.63136564e-06   1.50000279e+00   1.49999476e+00   5.49999638e+00\n",
        "   5.50000438e+00   4.50000406e+00   4.49999606e+00   8.49999693e+00\n",
        "   8.50000493e+00   1.00000014e+01]\n",
        "Y:\t\t[  1.63198497e-06   1.50000510e+00   1.49999707e+00   5.49999616e+00\n",
        "   5.50000415e+00   4.50000447e+00   4.49999647e+00   8.49999481e+00\n",
        "   8.50000280e+00   9.99999830e+00]\n",
        "Calc Y:\t\t[  1.63198497e-06   1.50000510e+00   1.49999707e+00   5.49999616e+00\n",
        "   5.50000415e+00   4.50000447e+00   4.49999647e+00   8.49999481e+00\n",
        "   8.50000280e+00   9.99999830e+00] \n",
        "\n",
        "Orthogonal Error Sq:\t[  5.32472880e-12   5.00002312e-01   4.99997688e-01   5.00000225e-01\n",
        "   4.99999775e-01   5.00000410e-01   4.99999590e-01   5.00002127e-01\n",
        "   4.99997873e-01   4.78959791e-12]\n",
        "Orthogonal Error:\t[  2.30753739e-06   7.07108416e-01   7.07105146e-01   7.07106940e-01\n",
        "   7.07106622e-01   7.07107071e-01   7.07106492e-01   7.07108285e-01\n",
        "   7.07105277e-01   2.18851500e-06] \n",
        "\n",
        "Res. Var:\t0.500000000032\n",
        "Calc Res. Var:\t0.500000000032\n",
        "Rel. Std. Dev:\t0.106904505368\n",
        "Calc. Rel Error:\t0.106904505368\n",
        "\n",
        "Sum[e^2]:\t4.00000000026\n",
        "Calc_Sum[e^2]:\t4.00000000026\n",
        "Sum[delta^2]:\t\t1.99996798853\n",
        "Calc_Sum[delta^2]:\t1.99996798853\n",
        "Sum[eps^2]:\t\t2.00003201172\n",
        "Calc_Sum[eps^2]:\t2.00003201172\n",
        "Rel Error:\t3.10862446895e-14\n"
       ]
      }
     ],
     "prompt_number": 95
    },
    {
     "cell_type": "code",
     "collapsed": false,
     "input": [],
     "language": "python",
     "metadata": {},
     "outputs": []
    },
    {
     "cell_type": "heading",
     "level": 1,
     "metadata": {},
     "source": [
      "Scratch Pad"
     ]
    },
    {
     "cell_type": "markdown",
     "metadata": {},
     "source": [
      "The following two boxes just show that regardless of the Y values, using least squares on a linear fit, will always result in $$\\sum{(Y-\\bar{Y})^2}=\\sum{(Y-\\hat{Y})^2}+\\sum{(\\hat{Y}-\\bar{Y})^2}$$"
     ]
    },
    {
     "cell_type": "code",
     "collapsed": false,
     "input": [
      "print mean(Y)\n",
      "Yhat = simpleLine([popt[0],popt[1]],X)\n",
      "print Yhat"
     ],
     "language": "python",
     "metadata": {},
     "outputs": [
      {
       "output_type": "stream",
       "stream": "stdout",
       "text": [
        "6.6\n",
        "[  1.30588235   3.42352941   2.36470588   6.6          7.65882353   6.6\n",
        "   5.54117647   9.77647059  10.83529412  11.89411765]\n"
       ]
      }
     ],
     "prompt_number": 87
    },
    {
     "cell_type": "code",
     "collapsed": false,
     "input": [
      "print sum((Y-mean(Y))**2)\n",
      "print sum((Y-Yhat)**2)+sum((Yhat-mean(Y))**2)"
     ],
     "language": "python",
     "metadata": {},
     "outputs": [
      {
       "output_type": "stream",
       "stream": "stdout",
       "text": [
        "576.4\n",
        "576.4\n"
       ]
      }
     ],
     "prompt_number": 88
    },
    {
     "cell_type": "markdown",
     "metadata": {},
     "source": [
      "This section below here is for me to play around and see how things work and/or what things are without needing to document it in my code above"
     ]
    },
    {
     "cell_type": "markdown",
     "metadata": {},
     "source": [
      "I'm playing around with what the \"work\" array is about.  It appears that it's an array of output values indexed by the dictionary \"work_ind\".  This array of output values can help debug more information if I am able to decode what all of the key values mean"
     ]
    },
    {
     "cell_type": "code",
     "collapsed": false,
     "input": [
      "print len(myfit.work), myfit.work_ind\n",
      "print myfit.stopreason\n",
      "print myfit.work[6:12]\n",
      "print myfit.work[myfit.work_ind['eps']:myfit.work_ind['xplus']]"
     ],
     "language": "python",
     "metadata": {},
     "outputs": [
      {
       "output_type": "stream",
       "stream": "stdout",
       "text": [
        "152 {'tau': 37, 'rnors': 41, 'qraux': 61, 'prers': 42, 'wssep': 33, 'diff': 84, 'rcond': 34, 'delts': 87, 'wrk7': 146, 'fjacd': 112, 'tt': 105, 'partl': 43, 's': 55, 'fjacb': 71, 'rvar': 30, 'wrk6': 134, 'u': 63, 'sstol': 44, 'wrk5': 133, 'wrk2': 124, 'wrk3': 130, 'wrk1': 118, 'fs': 65, 'wssde': 32, 'taufc': 45, 'pnorm': 40, 'olmav': 36, 'we1': 83, 'delta': 0, 'deltn': 93, 'alpha': 38, 'ssf': 59, 'omega': 111, 'wrk4': 132, 'fn': 18, 'betac': 49, 'betao': 47, 'betan': 53, 'eps': 6, 'xplus': 12, 'ss': 57, 'wss': 31, 'eta': 35, 'betas': 51, 't': 99, 'actrs': 39, 'apsma': 46, 'sd': 26}\n",
        "['Sum of squares convergence']\n",
        "[  5.94737160e-05   5.00060432e-01   5.00000981e-01  -5.00000967e-01\n",
        "  -5.00060450e-01  -5.94679904e-05]\n",
        "[  5.94737160e-05   5.00060432e-01   5.00000981e-01  -5.00000967e-01\n",
        "  -5.00060450e-01  -5.94679904e-05]\n"
       ]
      }
     ],
     "prompt_number": 127
    },
    {
     "cell_type": "code",
     "collapsed": false,
     "input": [
      "foo = array([1, 1, 1, 1, 1, 1, 1, 1, 1, 0.45, 0.5, 0.6, 0.6, 0.3, 0.7, 0.8])\n",
      "print foo"
     ],
     "language": "python",
     "metadata": {},
     "outputs": [
      {
       "output_type": "stream",
       "stream": "stdout",
       "text": [
        "[ 1.    1.    1.    1.    1.    1.    1.    1.    1.    0.45  0.5   0.6\n",
        "  0.6   0.3   0.7   0.8 ]\n"
       ]
      }
     ],
     "prompt_number": 22
    },
    {
     "cell_type": "code",
     "collapsed": false,
     "input": [
      "print foo[foo<0.5]"
     ],
     "language": "python",
     "metadata": {},
     "outputs": [
      {
       "output_type": "stream",
       "stream": "stdout",
       "text": [
        "[ 0.45  0.3 ]\n"
       ]
      }
     ],
     "prompt_number": 23
    },
    {
     "cell_type": "code",
     "collapsed": false,
     "input": [],
     "language": "python",
     "metadata": {},
     "outputs": []
    }
   ],
   "metadata": {}
  }
 ]
}