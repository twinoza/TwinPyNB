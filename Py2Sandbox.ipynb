{
 "cells": [
  {
   "cell_type": "markdown",
   "metadata": {
    "run_control": {
     "marked": false
    }
   },
   "source": [
    "This is a python notebook where I can test out python 2 commands quickly.  As such, it's just a simple sandbox for me to play around and see if my understanding of python is confirmed or denied."
   ]
  },
  {
   "cell_type": "code",
   "execution_count": 1,
   "metadata": {
    "collapsed": false,
    "run_control": {
     "marked": false,
     "read_only": false
    }
   },
   "outputs": [
    {
     "name": "stdout",
     "output_type": "stream",
     "text": [
      "Populating the interactive namespace from numpy and matplotlib\n"
     ]
    }
   ],
   "source": [
    "%pylab inline"
   ]
  },
  {
   "cell_type": "markdown",
   "metadata": {
    "run_control": {
     "marked": false
    }
   },
   "source": [
    "# Testing arange usage"
   ]
  },
  {
   "cell_type": "code",
   "execution_count": 2,
   "metadata": {
    "collapsed": false,
    "run_control": {
     "marked": false,
     "read_only": false
    }
   },
   "outputs": [
    {
     "name": "stdout",
     "output_type": "stream",
     "text": [
      "[0 1 2 3 4]\n",
      "[1 2 3 4 5]\n"
     ]
    }
   ],
   "source": [
    "foo = arange(5)\n",
    "foo1 = foo + 1\n",
    "print foo\n",
    "print foo1"
   ]
  },
  {
   "cell_type": "markdown",
   "metadata": {
    "run_control": {
     "marked": false
    }
   },
   "source": [
    "#Testing that varying $I_{ref}$ doesn't affect the bifurcation point"
   ]
  },
  {
   "cell_type": "code",
   "execution_count": 3,
   "metadata": {
    "collapsed": false,
    "run_control": {
     "marked": false,
     "read_only": false
    }
   },
   "outputs": [],
   "source": [
    "import cPickle\n",
    "import sys\n",
    "import os\n",
    "import glob"
   ]
  },
  {
   "cell_type": "code",
   "execution_count": 4,
   "metadata": {
    "collapsed": false,
    "run_control": {
     "marked": false,
     "read_only": false
    }
   },
   "outputs": [
    {
     "name": "stdout",
     "output_type": "stream",
     "text": [
      "/home/noza/work/sandbox/PyNotebooks\n"
     ]
    }
   ],
   "source": [
    "homedir = os.getcwd()\n",
    "print homedir"
   ]
  },
  {
   "cell_type": "code",
   "execution_count": 5,
   "metadata": {
    "collapsed": false,
    "hide_input": false,
    "hide_output": false,
    "run_control": {
     "marked": false,
     "read_only": false
    }
   },
   "outputs": [
    {
     "name": "stdout",
     "output_type": "stream",
     "text": [
      "/home/noza/work/neuro-boa/apps/spring/calibration\n"
     ]
    }
   ],
   "source": [
    "os.chdir('/home/noza/work/neuro-boa/apps/spring/calibration/')\n",
    "print os.getcwd()"
   ]
  },
  {
   "cell_type": "code",
   "execution_count": 6,
   "metadata": {
    "collapsed": false,
    "hide_input": false,
    "run_control": {
     "marked": false,
     "read_only": false
    }
   },
   "outputs": [
    {
     "name": "stdout",
     "output_type": "stream",
     "text": [
      "Using Chip Params from:\n",
      "\t/home/noza/data/calibData/endeavour/chip3/run9.0/packed_data/chipParam.pck\n",
      "Called python script to get basic calibration parameters\n",
      "board_id: endeavour\tchip_id: 3\trun_id: 9.0\tsyn_idx: 0\n",
      "block_size: 256\toffset: 0\n",
      "home: /home/noza\tfolder_root: /home/noza/data/calibData/endeavour/chip3/run9.0\n"
     ]
    }
   ],
   "source": [
    "execfile('basicCalibrationParams.py')"
   ]
  },
  {
   "cell_type": "code",
   "execution_count": 48,
   "metadata": {
    "collapsed": false,
    "run_control": {
     "marked": false,
     "read_only": false
    }
   },
   "outputs": [
    {
     "name": "stdout",
     "output_type": "stream",
     "text": [
      "Number of Iref values parsed:  10\n"
     ]
    }
   ],
   "source": [
    "os.chdir(folder_root + '/packed_data/')\n",
    "bifFileList = sorted(glob.glob('bifPoints_endeavour_*.pck'))\n",
    "print 'Number of Iref values parsed: ', len(bifFileList)"
   ]
  },
  {
   "cell_type": "code",
   "execution_count": 58,
   "metadata": {
    "collapsed": false,
    "run_control": {
     "marked": false,
     "read_only": false
    }
   },
   "outputs": [
    {
     "name": "stdout",
     "output_type": "stream",
     "text": [
      "Il Values:  [ 0.002  0.012  0.022  0.032  0.042  0.052  0.062  0.072  0.082  0.092\n",
      "  0.102  0.112  0.122  0.132  0.142  0.152  0.162  0.172  0.182  0.192]\n",
      "Length of Ic Values:  228\n"
     ]
    }
   ],
   "source": [
    "Ils = loadtxt(folder_root + '/calibData/somaCalib_Il.dat')\n",
    "print 'Il Values: ', Ils\n",
    "Ics = loadtxt(folder_root + '/calibData/somaCalib_Ic.dat')\n",
    "print 'Length of Ic Values: ', len(Ics)"
   ]
  },
  {
   "cell_type": "code",
   "execution_count": 60,
   "metadata": {
    "collapsed": false,
    "run_control": {
     "marked": false,
     "read_only": false
    }
   },
   "outputs": [
    {
     "name": "stdout",
     "output_type": "stream",
     "text": [
      "Bifurcation Points for varying Iref values\n"
     ]
    },
    {
     "data": {
      "image/png": "[encoded data removed]",
      "text/plain": [
       "<matplotlib.figure.Figure at 0x5019e90>"
      ]
     },
     "metadata": {},
     "output_type": "display_data"
    }
   ],
   "source": [
    "figure(figsize=(13,9))\n",
    "if SingleNeurons:\n",
    "    print \"Bifurcation Points for varying Iref values\"\n",
    "    for i, singleNrnId in enumerate(sorted(singleNrns)):\n",
    "        ax1 = subplot(floor(sqrt(len(singleNrns))),ceil(sqrt(len(singleNrns))), i+1)        \n",
    "        \n",
    "        for fileName in bifFileList:\n",
    "            #print fileName\n",
    "            bifPoints = cPickle.load(open(fileName))\n",
    "            plot(Ils[0:len(bifPoints[singleNrnId])], bifPoints[singleNrnId])\n",
    "            #print \"Nrn: \", singleNrnId, \"\\t\", bifPoints[singleNrnId]\n",
    "        title(singleNrnId, fontsize=10)\n",
    "        xlabel(r'$I_{lk}$', fontsize=9)\n",
    "        ylabel(r'$I_{in}$', fontsize=9)\n",
    "        xlim(min(Ils),max(Ils))\n",
    "        ylim(0, max(Ics))\n",
    "        tight_layout()\n",
    "            "
   ]
  },
  {
   "cell_type": "code",
   "execution_count": 1,
   "metadata": {
    "collapsed": false,
    "run_control": {
     "marked": false,
     "read_only": false
    }
   },
   "outputs": [
    {
     "name": "stdout",
     "output_type": "stream",
     "text": [
      "[-1, 0, 1]\n"
     ]
    }
   ],
   "source": [
    "lookdist = 1\n",
    "foo = range(-lookdist, lookdist+1)\n",
    "print foo"
   ]
  },
  {
   "cell_type": "code",
   "execution_count": 13,
   "metadata": {
    "collapsed": true,
    "run_control": {
     "marked": false,
     "read_only": false
    }
   },
   "outputs": [
    {
     "name": "stdout",
     "output_type": "stream",
     "text": [
      "[0 1 2 3 4 5 6 7 8 9]\n",
      "8\n",
      "[0 1 2 3 4 5 6 7 8 9]\n",
      "[2 3 4 5]\n",
      "[ True False  True  True  True  True False False False False]\n",
      "[0 0 0 0 0]\n",
      "[0 1 0 0 0 0 6 7 8 9]\n"
     ]
    }
   ],
   "source": [
    "a = arange(10)\n",
    "print a\n",
    "print a[8]\n",
    "print a\n",
    "print a[2:6]\n",
    "a[2:6] = 0\n",
    "mask = a==0\n",
    "print mask\n",
    "print a[mask]\n",
    "print a"
   ]
  },
  {
   "cell_type": "code",
   "execution_count": 93,
   "metadata": {
    "collapsed": false,
    "run_control": {
     "marked": false,
     "read_only": false
    }
   },
   "outputs": [],
   "source": [
    "x = arange(100)\n",
    "y = arange(100)\n",
    "x, y = meshgrid(x, y)\n",
    "z = 2*(x+y)"
   ]
  },
  {
   "cell_type": "code",
   "execution_count": 124,
   "metadata": {
    "collapsed": false,
    "run_control": {
     "marked": false,
     "read_only": false
    }
   },
   "outputs": [
    {
     "name": "stdout",
     "output_type": "stream",
     "text": [
      "(3725, 3)\n"
     ]
    },
    {
     "data": {
      "text/plain": [
       "<matplotlib.contour.QuadContourSet instance at 0x7f90c4f52cb0>"
      ]
     },
     "execution_count": 124,
     "metadata": {},
     "output_type": "execute_result"
    },
    {
     "data": {
      "image/png": "[encoded data removed]",
      "text/plain": [
       "<matplotlib.figure.Figure at 0x7f90c502b890>"
      ]
     },
     "metadata": {},
     "output_type": "display_data"
    }
   ],
   "source": [
    "rcParams['figure.figsize'] = 16, 12  # that's default image size for this interactive session\n",
    "subplot(121)\n",
    "contourf(x, y, z)\n",
    "\n",
    "set_printoptions(threshold='nan')\n",
    "\n",
    "mask = logical_and(z>=200, z<300)\n",
    "#print m\n",
    "#print shape(m)\n",
    "\n",
    "x1 = x[mask]\n",
    "y1 = y[mask]\n",
    "z1 = z[mask]\n",
    "#print z[m]\n",
    "\n",
    "fullArr = array([x1,y1,z1]).T\n",
    "#print fullArr\n",
    "fullArr = fullArr[argsort(fullArr[:,2])]\n",
    "print shape(fullArr)\n",
    "\n",
    "X = reshape(fullArr.T[0], (149,25))\n",
    "Y = reshape(fullArr.T[0], (149,25))\n",
    "Z = reshape(fullArr.T[0], (149,25))\n",
    "#print x1\n",
    "#print y1\n",
    "#print z1\n",
    "\n",
    "#print shape(z1)\n",
    "#cols = unique(x1)\n",
    "#X = reshape(x1, (149,25))\n",
    "#Y = reshape(y1, (149,25))\n",
    "#Z = reshape(z1, (149,25))\n",
    "#print X\n",
    "#\n",
    "subplot(122)\n",
    "contourf(X,Y,Z)\n",
    "\n"
   ]
  },
  {
   "cell_type": "markdown",
   "metadata": {
    "collapsed": true,
    "run_control": {
     "marked": false,
     "read_only": false
    }
   },
   "source": [
    "Showing Naren how python is sequential"
   ]
  },
  {
   "cell_type": "code",
   "execution_count": 1,
   "metadata": {
    "collapsed": false,
    "run_control": {
     "marked": false,
     "read_only": false
    },
    "scrolled": true
   },
   "outputs": [
    {
     "name": "stdout",
     "output_type": "stream",
     "text": [
      "World\n",
      "Hello\n"
     ]
    },
    {
     "ename": "NameError",
     "evalue": "name 'func2' is not defined",
     "output_type": "error",
     "traceback": [
      "\u001b[1;31m---------------------------------------------------------------------------\u001b[0m",
      "\u001b[1;31mNameError\u001b[0m                                 Traceback (most recent call last)",
      "\u001b[1;32m<ipython-input-1-3b8ce2732529>\u001b[0m in \u001b[0;36m<module>\u001b[1;34m()\u001b[0m\n\u001b[0;32m      6\u001b[0m \u001b[1;33m\u001b[0m\u001b[0m\n\u001b[0;32m      7\u001b[0m \u001b[0mfunc1\u001b[0m\u001b[1;33m(\u001b[0m\u001b[1;36m5\u001b[0m\u001b[1;33m,\u001b[0m\u001b[1;36m4\u001b[0m\u001b[1;33m)\u001b[0m\u001b[1;33m\u001b[0m\u001b[0m\n\u001b[1;32m----> 8\u001b[1;33m \u001b[0mfunc2\u001b[0m\u001b[1;33m(\u001b[0m\u001b[1;36m4\u001b[0m\u001b[1;33m,\u001b[0m\u001b[1;36m5\u001b[0m\u001b[1;33m)\u001b[0m  \u001b[1;31m# Note this command will create an error saying that func2 is not defined\u001b[0m\u001b[1;33m\u001b[0m\u001b[0m\n\u001b[0m\u001b[0;32m      9\u001b[0m \u001b[1;32mdef\u001b[0m \u001b[0mfunc2\u001b[0m\u001b[1;33m(\u001b[0m\u001b[0ma\u001b[0m\u001b[1;33m,\u001b[0m\u001b[0mb\u001b[0m\u001b[1;33m)\u001b[0m\u001b[1;33m:\u001b[0m\u001b[1;33m\u001b[0m\u001b[0m\n\u001b[0;32m     10\u001b[0m     \u001b[1;32mreturn\u001b[0m \u001b[0ma\u001b[0m\u001b[1;33m+\u001b[0m\u001b[0mb\u001b[0m\u001b[1;33m\u001b[0m\u001b[0m\n",
      "\u001b[1;31mNameError\u001b[0m: name 'func2' is not defined"
     ]
    }
   ],
   "source": [
    "def func1(a,b):\n",
    "    print \"World\"\n",
    "    print \"Hello\"\n",
    "    \n",
    "    return a*b\n",
    "\n",
    "func1(5,4)\n",
    "func2(4,5)  # Note this command will create an error saying that func2 is not defined\n",
    "def func2(a,b):\n",
    "    return a+b\n",
    "\n"
   ]
  },
  {
   "cell_type": "code",
   "execution_count": 55,
   "metadata": {
    "collapsed": false,
    "run_control": {
     "marked": false,
     "read_only": false
    }
   },
   "outputs": [
    {
     "name": "stdout",
     "output_type": "stream",
     "text": [
      "[0, 1, 2, 3, 4]\n",
      "[(0, 0)]\n",
      "[(0, 0), (1, 2)]\n",
      "[(0, 0), (1, 2), (2, 4)]\n",
      "[(0, 0), (1, 2), (2, 4), (3, 6)]\n",
      "[(0, 0), (1, 2), (2, 4), (3, 6), (4, 8)]\n",
      "[(0, 0), (1, 2), (2, 4), (3, 6), (4, 8), (5, 10)]\n",
      "[(0, 0), (1, 2), (2, 4), (3, 6), (4, 8), (5, 10), (6, 12)]\n",
      "[(0, 0), (1, 2), (2, 4), (3, 6), (4, 8), (5, 10), (6, 12), (7, 14)]\n",
      "(0, 3, 6, 9, 12, 15, 18, 21)\n",
      "8\n"
     ]
    }
   ],
   "source": [
    "print range(5)\n",
    "a = arange(8)\n",
    "b = arange(8)*2\n",
    "#print \"AAAA\", array((a,b)).T\n",
    "pairedArray = array((a,b)).T\n",
    "\n",
    "pairedTupleList = []\n",
    "for i, pairedVal in enumerate(pairedArray):\n",
    "#    print i, pairedVal\n",
    "    pairedTupleList.append(tuple([j for j in pairedVal]))\n",
    "    print pairedTupleList\n",
    "\n",
    "def cellValue(a, b):\n",
    "    return a + b\n",
    "    \n",
    "finaltup = tuple(cellValue(i,j) for i,j in pairedTupleList)\n",
    "print finaltup\n",
    "print len(finaltup)\n",
    "#l = [2*i for i in a]\n",
    "#print l\n",
    "#print len(l)"
   ]
  },
  {
   "cell_type": "code",
   "execution_count": 17,
   "metadata": {
    "collapsed": false,
    "run_control": {
     "marked": false,
     "read_only": false
    }
   },
   "outputs": [
    {
     "name": "stdout",
     "output_type": "stream",
     "text": [
      "hello\n",
      "[0, 1, 1, 1]\n",
      "[4, 5, 6]\n"
     ]
    }
   ],
   "source": [
    "lastState = (0,1,1,1)\n",
    "if (lastState == (0,1,1,1)) or (lastState == [1,0,1,1]) or (lastState == [1,1,0,1]) or (lastState == [1,1,1,0]):\n",
    "    print \"hello\"\n",
    "else:\n",
    "    print \"world\"\n",
    "    \n",
    "print ([0,1,1,1] or [1,0,1,1] or [1,1,0,1] or [1,1,1,0])\n",
    "print ([4,5,6] or [1,2,3])"
   ]
  },
  {
   "cell_type": "code",
   "execution_count": 20,
   "metadata": {
    "collapsed": false,
    "run_control": {
     "marked": false,
     "read_only": false
    }
   },
   "outputs": [
    {
     "data": {
      "text/plain": [
       "(array([2, 3, 8]),)"
      ]
     },
     "execution_count": 20,
     "metadata": {},
     "output_type": "execute_result"
    }
   ],
   "source": [
    "where(array([1,3,4,4,5,6,7,8,4])==4)"
   ]
  },
  {
   "cell_type": "markdown",
   "metadata": {
    "collapsed": true,
    "run_control": {
     "marked": false,
     "read_only": false
    }
   },
   "source": [
    "Dummy Fibonacci Sequence program and test to help Naren"
   ]
  },
  {
   "cell_type": "code",
   "execution_count": 37,
   "metadata": {
    "collapsed": false,
    "run_control": {
     "marked": false,
     "read_only": false
    }
   },
   "outputs": [
    {
     "name": "stdout",
     "output_type": "stream",
     "text": [
      "Fib List [0, 1, 1, 2, 3, 5, 8, 13]\n",
      "Diff of Fib List [1 0 1 1 2 3 5]\n",
      "True\n",
      "False\n",
      "False\n",
      "False\n"
     ]
    }
   ],
   "source": [
    "\n",
    "def Fib(n=10):\n",
    "    FibSeq = []\n",
    "    for i in range(n):\n",
    "        if i < 2:\n",
    "            FibSeq.append(i)\n",
    "        else:\n",
    "            FibSeq.append(FibSeq[i-2]+FibSeq[i-1])\n",
    "    return FibSeq\n",
    "\n",
    "def TestFib(list1):\n",
    "    return all(diff(list1)[1:]==list1[:-2]) and diff(list1)[0]==1\n",
    "\n",
    "def TestFib2(list1):\n",
    "    fibSeq=Fib(len(list1))\n",
    "    isFib = True\n",
    "    for i, listVal in enumerate(list1):\n",
    "        if listVal!= fibSeq[i]:\n",
    "            isFib = False\n",
    "    return isFib\n",
    "\n",
    "def TestFib3(list1):\n",
    "    isFib = True\n",
    "    for i in reversed(range(len(list1))):\n",
    "        if (i>=2 and list1[i] != list1[i-1]+list1[i-2]) or (i<2 and list1[i]!=i):\n",
    "            isFib = False\n",
    "    return isFib\n",
    "\n",
    "l1 = Fib(8)\n",
    "testList = [0,1,2,2,3,5]\n",
    "print \"Fib List\", l1\n",
    "print \"Diff of Fib List\", diff(l1)\n",
    "print TestFib(l1)\n",
    "print TestFib(testList)\n",
    "print TestFib2(testList)\n",
    "print TestFib3(testList)"
   ]
  },
  {
   "cell_type": "code",
   "execution_count": 2,
   "metadata": {
    "collapsed": false,
    "run_control": {
     "marked": false,
     "read_only": false
    }
   },
   "outputs": [
    {
     "name": "stdout",
     "output_type": "stream",
     "text": [
      "4\n"
     ]
    }
   ],
   "source": [
    "print (not(7==4))+3"
   ]
  },
  {
   "cell_type": "code",
   "execution_count": 4,
   "metadata": {
    "collapsed": false,
    "run_control": {
     "marked": false,
     "read_only": false
    }
   },
   "outputs": [
    {
     "ename": "SyntaxError",
     "evalue": "invalid syntax (<ipython-input-4-82a5ee416785>, line 2)",
     "output_type": "error",
     "traceback": [
      "\u001b[1;36m  File \u001b[1;32m\"<ipython-input-4-82a5ee416785>\"\u001b[1;36m, line \u001b[1;32m2\u001b[0m\n\u001b[1;33m    if(a=0):\u001b[0m\n\u001b[1;37m        ^\u001b[0m\n\u001b[1;31mSyntaxError\u001b[0m\u001b[1;31m:\u001b[0m invalid syntax\n"
     ]
    }
   ],
   "source": [
    "a=6\n",
    "if(a=0):\n",
    "    print a\n",
    "else:\n",
    "    print \"Naren messed up\""
   ]
  },
  {
   "cell_type": "code",
   "execution_count": null,
   "metadata": {
    "collapsed": true,
    "run_control": {
     "marked": false,
     "read_only": false
    }
   },
   "outputs": [],
   "source": []
  }
 ],
 "metadata": {
  "kernelspec": {
   "display_name": "Python 2",
   "language": "python",
   "name": "python2"
  },
  "language_info": {
   "codemirror_mode": {
    "name": "ipython",
    "version": 2
   },
   "file_extension": ".py",
   "mimetype": "text/x-python",
   "name": "python",
   "nbconvert_exporter": "python",
   "pygments_lexer": "ipython2",
   "version": "2.7.6"
  }
 },
 "nbformat": 4,
 "nbformat_minor": 0
}
