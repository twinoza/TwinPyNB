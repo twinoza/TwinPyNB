{
 "metadata": {
  "name": "",
  "signature": "sha256:3b2d613f4f5a8b375adec61baaecb3a786ef43def4facfaba502ae6af97b14c4"
 },
 "nbformat": 3,
 "nbformat_minor": 0,
 "worksheets": [
  {
   "cells": [
    {
     "cell_type": "code",
     "collapsed": false,
     "input": [
      "%pylab inline"
     ],
     "language": "python",
     "metadata": {},
     "outputs": [
      {
       "output_type": "stream",
       "stream": "stdout",
       "text": [
        "Populating the interactive namespace from numpy and matplotlib\n"
       ]
      }
     ],
     "prompt_number": 3
    },
    {
     "cell_type": "code",
     "collapsed": false,
     "input": [
      "from scipy.odr import *\n",
      "from scipy.optimize import *"
     ],
     "language": "python",
     "metadata": {},
     "outputs": [],
     "prompt_number": 150
    },
    {
     "cell_type": "heading",
     "level": 3,
     "metadata": {},
     "source": [
      "Define basic functions to test ODR on a known linear model"
     ]
    },
    {
     "cell_type": "markdown",
     "metadata": {},
     "source": [
      "These functions are going to be used to test the ODR compared to the Least Squares algorithms on a known linear model"
     ]
    },
    {
     "cell_type": "code",
     "collapsed": false,
     "input": [
      "def simpleLine(beta,x):\n",
      "    m, b = beta[0],beta[1]\n",
      "    xVals = x\n",
      "    return m*x + b"
     ],
     "language": "python",
     "metadata": {},
     "outputs": [],
     "prompt_number": 55
    },
    {
     "cell_type": "code",
     "collapsed": false,
     "input": [
      "def simpleLineErr(beta, yVals, xVals):\n",
      "    m, b = beta\n",
      "    return yVals - (m*xVals + b)"
     ],
     "language": "python",
     "metadata": {},
     "outputs": [],
     "prompt_number": 173
    },
    {
     "cell_type": "code",
     "collapsed": false,
     "input": [
      "def plotData(X,Y):\n",
      "    p = plot(X,Y,'r.')\n",
      "    title('Test ODR')\n",
      "    xlabel('x')\n",
      "    ylabel('y')\n",
      "    xlim(-1,3)\n",
      "    ylim(-1,3)\n",
      "    return p"
     ],
     "language": "python",
     "metadata": {},
     "outputs": [],
     "prompt_number": 51
    },
    {
     "cell_type": "heading",
     "level": 3,
     "metadata": {},
     "source": [
      "Create data"
     ]
    },
    {
     "cell_type": "markdown",
     "metadata": {},
     "source": [
      "Create a set of data points that I know will result in an ODR calculation with known quantities"
     ]
    },
    {
     "cell_type": "code",
     "collapsed": false,
     "input": [
      "#X = [1,0,1,2]\n",
      "#Y = [0,1,2,1]\n",
      "X = array([0.,1,2,0,1,2])\n",
      "Y = array([0.,0,1,1,2,2])\n",
      "print \"X Vals:\", X, '\\n', \"Y Vals:\", Y\n",
      "plotData(X,Y)"
     ],
     "language": "python",
     "metadata": {},
     "outputs": [
      {
       "output_type": "stream",
       "stream": "stdout",
       "text": [
        "X Vals: [ 0.  1.  2.  0.  1.  2.] \n",
        "Y Vals: [ 0.  0.  1.  1.  2.  2.]\n"
       ]
      },
      {
       "metadata": {},
       "output_type": "display_data",
       "png": "[encoded data removed]",
       "text": [
        "<matplotlib.figure.Figure at 0x7f0599cd3f50>"
       ]
      }
     ],
     "prompt_number": 169
    },
    {
     "cell_type": "heading",
     "level": 3,
     "metadata": {},
     "source": [
      "Run the regression algorithms"
     ]
    },
    {
     "cell_type": "markdown",
     "metadata": {},
     "source": [
      "Create and Run ODR"
     ]
    },
    {
     "cell_type": "code",
     "collapsed": false,
     "input": [
      "initM, initB = 0.5, 0.5\n",
      "mydata = Data(X,Y)\n",
      "model = Model(simpleLine)\n",
      "myodr = ODR(mydata,model,beta0=[initM, initB])\n",
      "myfit = myodr.run()"
     ],
     "language": "python",
     "metadata": {},
     "outputs": [],
     "prompt_number": 181
    },
    {
     "cell_type": "markdown",
     "metadata": {},
     "source": [
      "Run the least squares regression"
     ]
    },
    {
     "cell_type": "code",
     "collapsed": false,
     "input": [
      "popt, pcov, pinfodict,pmesg,pler = leastsq(simpleLineErr,(initM,initB),args=(Y, X),full_output=True)"
     ],
     "language": "python",
     "metadata": {},
     "outputs": [],
     "prompt_number": 194
    },
    {
     "cell_type": "heading",
     "level": 3,
     "metadata": {},
     "source": [
      "Plot the output of both of the regression algorithms"
     ]
    },
    {
     "cell_type": "markdown",
     "metadata": {},
     "source": [
      "Plot the initial guess as a dashed green line to show how the original estimate of the the beta parameters would have resulted\n",
      "In blue is the result of ODR\n",
      "In red is the result of Least Square Regression"
     ]
    },
    {
     "cell_type": "code",
     "collapsed": false,
     "input": [
      "thX = linspace(-1,3,100)\n",
      "thY = simpleLine(myfit.beta,thX)\n",
      "thGuess = simpleLine([initM, initB],thX)\n",
      "thLS = simpleLine([popt[0], popt[1]],thX)"
     ],
     "language": "python",
     "metadata": {},
     "outputs": [],
     "prompt_number": 183
    },
    {
     "cell_type": "code",
     "collapsed": false,
     "input": [
      "plot(thX,thY,'b-')\n",
      "plot(thX,thLS,'r-')\n",
      "plot(thX,thGuess,'g--')\n",
      "plotData(X,Y)"
     ],
     "language": "python",
     "metadata": {},
     "outputs": [
      {
       "metadata": {},
       "output_type": "display_data",
       "png": "[encoded data removed]",
       "text": [
        "<matplotlib.figure.Figure at 0x7f05998e9050>"
       ]
      }
     ],
     "prompt_number": 195
    },
    {
     "cell_type": "heading",
     "level": 3,
     "metadata": {},
     "source": [
      "Print the output of the various regression algorithms"
     ]
    },
    {
     "cell_type": "markdown",
     "metadata": {},
     "source": [
      "Print the output of least squares regression"
     ]
    },
    {
     "cell_type": "code",
     "collapsed": false,
     "input": [
      "print \"LS_Slope:\\t\", popt[0]\n",
      "print \"LS_Y-Int:\\t\", popt[1]"
     ],
     "language": "python",
     "metadata": {},
     "outputs": [
      {
       "output_type": "stream",
       "stream": "stdout",
       "text": [
        "LS_Slope:\t0.5\n",
        "LS_Y-Int:\t0.5\n"
       ]
      }
     ],
     "prompt_number": 196
    },
    {
     "cell_type": "markdown",
     "metadata": {},
     "source": [
      "Print the output parameters that are found using the ODR.  In the process of doing this, also print out the calculated values of the residual variance, the sum of squared error, the sum of the squared delta (error in the x-axis) values, and the sum of the squared epsilon (error in the y-axis) values"
     ]
    },
    {
     "cell_type": "code",
     "collapsed": false,
     "input": [
      "print \"Slope:\\t\\t\", myfit.beta[0]\n",
      "print \"Y-Int:\\t\\t\", myfit.beta[1]\n",
      "print \"Delta:\\t\\t\", myfit.delta\n",
      "print \"Eps:\\t\\t\", myfit.eps\n",
      "print \"X+delta\\t:\", myfit.xplus\n",
      "print \"Y:\\t\\t\", myfit.y\n",
      "print \"Calc Y:\\t\\t\", simpleLine(myfit.beta,X+myfit.delta)\n",
      "print \"Res. Var:\\t\",myfit.res_var\n",
      "print \"Calc Res. Var:\\t\",sum(myfit.delta**2+myfit.eps**2)/(len(myfit.delta)-2)\n",
      "print \"Sum[e^2]:\\t\", myfit.sum_square\n",
      "print \"Calc_Sum[e^2]:\\t\", sum(myfit.delta**2+myfit.eps**2)\n",
      "print \"Sum[delta^2]:\\t\\t\", myfit.sum_square_delta\n",
      "print \"Calc_Sum[delta^2]:\\t\", sum(myfit.delta**2)\n",
      "print \"Sum[eps^2]:\\t\\t\", myfit.sum_square_eps\n",
      "print \"Calc_Sum[eps^2]:\\t\", sum(myfit.eps**2)\n",
      "print \"Rel Error:\\t\",myfit.rel_error"
     ],
     "language": "python",
     "metadata": {},
     "outputs": [
      {
       "output_type": "stream",
       "stream": "stdout",
       "text": [
        "Slope:\t\t0.999881072609\n",
        "Y-Int:\t\t0.000118933050285\n",
        "Delta:\t\t[ -5.94664064e-05  -4.99999037e-01  -4.99939554e-01   4.99939557e-01\n",
        "   4.99999008e-01   5.94608133e-05]\n",
        "Eps:\t\t[  5.94737160e-05   5.00060432e-01   5.00000981e-01  -5.00000967e-01\n",
        "  -5.00060450e-01  -5.94679904e-05]\n",
        "X+delta\t: [ -5.94664064e-05   5.00000963e-01   1.50006045e+00   4.99939557e-01\n",
        "   1.49999901e+00   2.00005946e+00]\n",
        "Y:\t\t[  5.94737160e-05   5.00060432e-01   1.50000098e+00   4.99999033e-01\n",
        "   1.49993955e+00   1.99994053e+00]\n",
        "Calc Y:\t\t[  5.94737160e-05   5.00060432e-01   1.50000098e+00   4.99999033e-01\n",
        "   1.49993955e+00   1.99994053e+00]\n",
        "Res. Var:\t0.500000003538\n",
        "Calc Res. Var:\t0.500000003538\n",
        "Sum[e^2]:\t2.00000001415\n",
        "Calc_Sum[e^2]:\t2.00000001415\n",
        "Sum[delta^2]:\t\t0.999877169801\n",
        "Calc_Sum[delta^2]:\t0.999877169801\n",
        "Sum[eps^2]:\t\t1.00012284435\n",
        "Calc_Sum[eps^2]:\t1.00012284435\n",
        "Rel Error:\t3.10862446895e-14\n"
       ]
      }
     ],
     "prompt_number": 191
    },
    {
     "cell_type": "code",
     "collapsed": false,
     "input": [],
     "language": "python",
     "metadata": {},
     "outputs": []
    },
    {
     "cell_type": "heading",
     "level": 1,
     "metadata": {},
     "source": [
      "Scratch Pad"
     ]
    },
    {
     "cell_type": "markdown",
     "metadata": {},
     "source": [
      "This section below here is for me to play around and see how things work and/or what things are without needing to document it in my code above"
     ]
    },
    {
     "cell_type": "markdown",
     "metadata": {},
     "source": [
      "I'm playing around with what the \"work\" array is about.  It appears that it's an array of output values indexed by the dictionary \"work_ind\".  This array of output values can help debug more information if I am able to decode what all of the key values mean"
     ]
    },
    {
     "cell_type": "code",
     "collapsed": false,
     "input": [
      "print len(myfit.work), myfit.work_ind\n",
      "print myfit.stopreason\n",
      "print myfit.work[6:12]\n",
      "print myfit.work[myfit.work_ind['eps']:myfit.work_ind['xplus']]"
     ],
     "language": "python",
     "metadata": {},
     "outputs": [
      {
       "output_type": "stream",
       "stream": "stdout",
       "text": [
        "152 {'tau': 37, 'rnors': 41, 'qraux': 61, 'prers': 42, 'wssep': 33, 'diff': 84, 'rcond': 34, 'delts': 87, 'wrk7': 146, 'fjacd': 112, 'tt': 105, 'partl': 43, 's': 55, 'fjacb': 71, 'rvar': 30, 'wrk6': 134, 'u': 63, 'sstol': 44, 'wrk5': 133, 'wrk2': 124, 'wrk3': 130, 'wrk1': 118, 'fs': 65, 'wssde': 32, 'taufc': 45, 'pnorm': 40, 'olmav': 36, 'we1': 83, 'delta': 0, 'deltn': 93, 'alpha': 38, 'ssf': 59, 'omega': 111, 'wrk4': 132, 'fn': 18, 'betac': 49, 'betao': 47, 'betan': 53, 'eps': 6, 'xplus': 12, 'ss': 57, 'wss': 31, 'eta': 35, 'betas': 51, 't': 99, 'actrs': 39, 'apsma': 46, 'sd': 26}\n",
        "['Sum of squares convergence']\n",
        "[  5.94737160e-05   5.00060432e-01   5.00000981e-01  -5.00000967e-01\n",
        "  -5.00060450e-01  -5.94679904e-05]\n",
        "[  5.94737160e-05   5.00060432e-01   5.00000981e-01  -5.00000967e-01\n",
        "  -5.00060450e-01  -5.94679904e-05]\n"
       ]
      }
     ],
     "prompt_number": 127
    }
   ],
   "metadata": {}
  }
 ]
}